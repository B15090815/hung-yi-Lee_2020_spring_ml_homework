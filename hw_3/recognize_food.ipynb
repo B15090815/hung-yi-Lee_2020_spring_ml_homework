{
 "cells": [
  {
   "cell_type": "code",
   "execution_count": 1,
   "metadata": {},
   "outputs": [],
   "source": [
    "import tensorflow as tf\n",
    "import numpy as np\n",
    "from PIL import Image\n",
    "import os"
   ]
  },
  {
   "cell_type": "code",
   "execution_count": 22,
   "metadata": {},
   "outputs": [],
   "source": [
    "def classify(img, model_graph='model/cnn_food-44.meta', model_path='model/'):\n",
    "    sess=tf.Session()\n",
    "    saver = tf.train.import_meta_graph(model_graph)\n",
    "    saver.restore(sess, tf.train.latest_checkpoint(model_path))\n",
    "    graph = tf.get_default_graph()\n",
    "    x = graph.get_tensor_by_name('x-input:0')\n",
    "    output = graph.get_tensor_by_name('output/add:0')\n",
    "    pred = sess.run(output, feed_dict={x:img})\n",
    "    label = np.argmax(pred)\n",
    "    food_map = {\n",
    "        0:'面包',\n",
    "        1: '乳制品',\n",
    "        2: '甜食',\n",
    "        3: '蛋类',\n",
    "        4: '煎炸类',\n",
    "        5: '肉类',\n",
    "        6: '面类',\n",
    "        7: '米饭类',\n",
    "        8: '海鲜',\n",
    "        9: '汤类',\n",
    "        10: '果蔬类'\n",
    "    }\n",
    "    print(food_map[label])\n",
    "    sess.close()"
   ]
  },
  {
   "cell_type": "code",
   "execution_count": 24,
   "metadata": {},
   "outputs": [],
   "source": [
    "def read_img(img_path):\n",
    "    img_raw = Image.open(img_path)\n",
    "#     img_raw.show()\n",
    "    img_raw = img_raw.resize((128, 128))\n",
    "    img = np.array(img_raw, dtype=np.float32) / 255.0\n",
    "    \n",
    "    return np.array([img])"
   ]
  },
  {
   "cell_type": "code",
   "execution_count": 8,
   "metadata": {},
   "outputs": [],
   "source": [
    "base_path = 'data/ml2020spring-hw3/food-11/testing'\n"
   ]
  },
  {
   "cell_type": "code",
   "execution_count": 31,
   "metadata": {},
   "outputs": [
    {
     "name": "stdout",
     "output_type": "stream",
     "text": [
      "INFO:tensorflow:Restoring parameters from D:/Workspace/python/Jupyter/hung-yi-Lee_2020_spring_ml_homework/hw_3/model/cnn_food-44\n",
      "果蔬类\n"
     ]
    }
   ],
   "source": [
    "img_name = '0508.jpg'\n",
    "img_path = os.path.join(base_path,img_name)\n",
    "img_data = read_img(img_path)\n",
    "classify(img_data)"
   ]
  },
  {
   "cell_type": "code",
   "execution_count": 2,
   "metadata": {
    "scrolled": true
   },
   "outputs": [
    {
     "name": "stdout",
     "output_type": "stream",
     "text": [
      "INFO:tensorflow:Restoring parameters from D:/Workspace/python/Jupyter/hung-yi-Lee_2020_spring_ml_homework/hw_3/model/cnn_food-44\n",
      "############ label 0 #############\n",
      "origin acc 0.2735\n",
      "rotate left 30 acc 0.2210\n",
      "rotate right 30 acc 0.1961\n",
      "flip up_down acc 0.2735\n",
      "flip right_left acc 0.3204\n",
      "############ label 1 #############\n",
      "origin acc 0.3681\n",
      "rotate left 30 acc 0.4792\n",
      "rotate right 30 acc 0.6111\n",
      "flip up_down acc 0.3611\n",
      "flip right_left acc 0.5000\n",
      "############ label 2 #############\n",
      "origin acc 0.3180\n",
      "rotate left 30 acc 0.0100\n",
      "rotate right 30 acc 0.0060\n",
      "flip up_down acc 0.2520\n",
      "flip right_left acc 0.2000\n",
      "############ label 3 #############\n",
      "origin acc 0.3914\n",
      "rotate left 30 acc 0.3333\n",
      "rotate right 30 acc 0.3670\n",
      "flip up_down acc 0.4251\n",
      "flip right_left acc 0.1988\n",
      "############ label 4 #############\n",
      "origin acc 0.3650\n",
      "rotate left 30 acc 0.5460\n",
      "rotate right 30 acc 0.4172\n",
      "flip up_down acc 0.4110\n",
      "flip right_left acc 0.3773\n",
      "############ label 5 #############\n",
      "origin acc 0.4566\n",
      "rotate left 30 acc 0.1359\n",
      "rotate right 30 acc 0.1425\n",
      "flip up_down acc 0.4588\n",
      "flip right_left acc 0.3007\n",
      "############ label 6 #############\n",
      "origin acc 0.4830\n",
      "rotate left 30 acc 0.4830\n",
      "rotate right 30 acc 0.5510\n",
      "flip up_down acc 0.4694\n",
      "flip right_left acc 0.4354\n",
      "############ label 7 #############\n",
      "origin acc 0.3542\n",
      "rotate left 30 acc 0.3750\n",
      "rotate right 30 acc 0.4062\n",
      "flip up_down acc 0.3646\n",
      "flip right_left acc 0.3646\n",
      "############ label 8 #############\n",
      "origin acc 0.2363\n",
      "rotate left 30 acc 0.3516\n",
      "rotate right 30 acc 0.2911\n",
      "flip up_down acc 0.2738\n",
      "flip right_left acc 0.2305\n",
      "############ label 9 #############\n",
      "origin acc 0.6500\n",
      "rotate left 30 acc 0.0920\n",
      "rotate right 30 acc 0.1020\n",
      "flip up_down acc 0.6540\n",
      "flip right_left acc 0.4940\n",
      "############ label 10 #############\n",
      "origin acc 0.5733\n",
      "rotate left 30 acc 0.5000\n",
      "rotate right 30 acc 0.5776\n",
      "flip up_down acc 0.5431\n",
      "flip right_left acc 0.5302\n"
     ]
    }
   ],
   "source": [
    "\n",
    "test_base_dir = 'data/ml2020spring-hw3/food-11/validation/'\n",
    "imgs = os.listdir(test_base_dir)\n",
    "cluster = [[] for _ in range(11)]\n",
    "for img in imgs:\n",
    "    idx = int(img.split('_')[0])\n",
    "    cluster[idx].append(img)\n",
    "\n",
    "\n",
    "model_graph='model/cnn_food-44.meta'\n",
    "model_path='model/'\n",
    "sess=tf.Session()\n",
    "saver = tf.train.import_meta_graph(model_graph)\n",
    "saver.restore(sess, tf.train.latest_checkpoint(model_path))\n",
    "graph = tf.get_default_graph()\n",
    "x = graph.get_tensor_by_name('x-input:0')\n",
    "y = graph.get_tensor_by_name('y-label:0')\n",
    "acc = graph.get_tensor_by_name('accuracy/Mean:0')\n",
    "    \n",
    "for i in range(11):\n",
    "    clu = cluster[i]\n",
    "    batch = []\n",
    "    batch_r = []\n",
    "    batch_l = []\n",
    "    batch_updown = []\n",
    "    batch_lr = []\n",
    "    label = []\n",
    "    for img in clu:\n",
    "        tmp_label = np.zeros((1,11), dtype=np.float32)\n",
    "        tmp_label[0, i] = 1.\n",
    "        label.append(tmp_label)\n",
    "        \n",
    "        img_path = os.path.join(test_base_dir, img)\n",
    "        \n",
    "        img_raw = Image.open(img_path)\n",
    "        img_raw = img_raw.resize((128, 128))\n",
    "        img_r = img_raw.rotate(-30)\n",
    "        img_l = img_raw.rotate(30)\n",
    "        img_updown = img_raw.transpose(Image.FLIP_LEFT_RIGHT)\n",
    "        img_lr = img_raw.transpose(Image.FLIP_TOP_BOTTOM)\n",
    "        \n",
    "        batch.append(np.array(img_raw, dtype=np.float32) / 255)\n",
    "        batch_r.append(np.array(img_r, dtype=np.float32) / 255)\n",
    "        batch_l.append(np.array(img_l, dtype=np.float32) / 255)\n",
    "        batch_updown.append(np.array(img_updown, dtype=np.float32) / 255)\n",
    "        batch_lr.append(np.array(img_lr, dtype=np.float32) / 255)\n",
    "#         break\n",
    "        \n",
    "    batch = np.array(batch)\n",
    "    batch_r = np.array(batch_r)\n",
    "    batch_l = np.array(batch_l)\n",
    "    batch_updown = np.array(batch_updown)\n",
    "    batch_lr = np.array(batch_lr)\n",
    "    label =np.concatenate(label, axis=0)\n",
    "    \n",
    "    acc_origin = sess.run(acc, feed_dict={x:batch, y:label})\n",
    "    acc_r = sess.run(acc, feed_dict={x:batch_r, y:label})\n",
    "    acc_l = sess.run(acc, feed_dict={x:batch_l, y:label})\n",
    "    acc_updown = sess.run(acc, feed_dict={x:batch_updown, y:label})\n",
    "    acc_lr = sess.run(acc, feed_dict={x:batch_lr, y:label})\n",
    "    \n",
    "    print('############ label %d #############' % i)\n",
    "    print('origin acc %.4f' % acc_origin)\n",
    "    print('rotate left 30 acc %.4f' % acc_r)\n",
    "    print('rotate right 30 acc %.4f' % acc_l)\n",
    "    print('flip up_down acc %.4f' % acc_updown)\n",
    "    print('flip right_left acc %.4f' % acc_lr)\n",
    "sess.close()\n",
    "#     break\n"
   ]
  },
  {
   "cell_type": "code",
   "execution_count": 58,
   "metadata": {},
   "outputs": [
    {
     "name": "stdout",
     "output_type": "stream",
     "text": [
      "INFO:tensorflow:Restoring parameters from D:/Workspace/python/Jupyter/hung-yi-Lee_2020_spring_ml_homework/hw_3/model/cnn_food-44\n"
     ]
    }
   ],
   "source": [
    "# model_graph='model/cnn_food-44.meta'\n",
    "# model_path='model/'\n",
    "# sess=tf.Session()\n",
    "# saver = tf.train.import_meta_graph(model_graph)\n",
    "# saver.restore(sess, tf.train.latest_checkpoint(model_path))\n",
    "# graph = tf.get_default_graph()\n",
    "# tensor_name_list = [tensor.name for tensor in graph.as_graph_def().node]\n",
    "# tensor_name_list"
   ]
  },
  {
   "cell_type": "code",
   "execution_count": 3,
   "metadata": {},
   "outputs": [
    {
     "name": "stdout",
     "output_type": "stream",
     "text": [
      "362\n",
      "144\n",
      "500\n",
      "327\n",
      "326\n",
      "449\n",
      "147\n",
      "96\n",
      "347\n",
      "500\n",
      "232\n"
     ]
    }
   ],
   "source": [
    "test_base_dir = 'data/ml2020spring-hw3/food-11/validation/'\n",
    "imgs = os.listdir(test_base_dir)\n",
    "cluster = [[] for _ in range(11)]\n",
    "for img in imgs:\n",
    "    idx = int(img.split('_')[0])\n",
    "    cluster[idx].append(img)\n",
    "for each in cluster:\n",
    "    print(len(each))"
   ]
  },
  {
   "cell_type": "code",
   "execution_count": null,
   "metadata": {},
   "outputs": [],
   "source": []
  }
 ],
 "metadata": {
  "kernelspec": {
   "display_name": "ml",
   "language": "python",
   "name": "ml"
  },
  "language_info": {
   "codemirror_mode": {
    "name": "ipython",
    "version": 3
   },
   "file_extension": ".py",
   "mimetype": "text/x-python",
   "name": "python",
   "nbconvert_exporter": "python",
   "pygments_lexer": "ipython3",
   "version": "3.6.8"
  }
 },
 "nbformat": 4,
 "nbformat_minor": 2
}
