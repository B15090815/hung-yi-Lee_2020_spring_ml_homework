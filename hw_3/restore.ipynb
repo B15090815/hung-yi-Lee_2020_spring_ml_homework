{
 "cells": [
  {
   "cell_type": "code",
   "execution_count": 37,
   "metadata": {},
   "outputs": [],
   "source": [
    "import tensorflow as tf\n",
    "import numpy as np\n",
    "import joblib\n",
    "import pandas as pd"
   ]
  },
  {
   "cell_type": "code",
   "execution_count": 38,
   "metadata": {},
   "outputs": [
    {
     "name": "stdout",
     "output_type": "stream",
     "text": [
      "INFO:tensorflow:Restoring parameters from D:/Workspace/python/Jupyter/hung-yi-Lee_2020_spring_ml_homework/hw_3/model/cnn_food-44\n",
      "okkk\n"
     ]
    }
   ],
   "source": [
    "sess=tf.Session()\n",
    "saver = tf.train.import_meta_graph('model/cnn_food-44.meta')\n",
    "saver.restore(sess, tf.train.latest_checkpoint('model/'))\n",
    "graph = tf.get_default_graph()\n",
    "x = graph.get_tensor_by_name('x-input:0')\n",
    "output = graph.get_tensor_by_name('output/add:0')\n",
    "base_dir = 'data/ml2020spring-hw3/processed/test/'\n",
    "\n",
    "result = []\n",
    "for k in range(27):\n",
    "    batch_name = base_dir + 'batch_%d'% k\n",
    "    batch = joblib.load(batch_name)\n",
    "    pred = sess.run(output, feed_dict={x:batch})\n",
    "    predict = np.argmax(pred, axis=1)\n",
    "    shape_one = predict.shape[0]\n",
    "    predict = predict.reshape((shape_one, 1))\n",
    "    result.append(predict)\n",
    "sess.close()\n",
    "print('okkk')"
   ]
  },
  {
   "cell_type": "code",
   "execution_count": 40,
   "metadata": {},
   "outputs": [],
   "source": [
    "a = np.concatenate(result, axis=0)"
   ]
  },
  {
   "cell_type": "code",
   "execution_count": 42,
   "metadata": {},
   "outputs": [],
   "source": [
    "df = pd.DataFrame(a, columns=['Category'])"
   ]
  },
  {
   "cell_type": "code",
   "execution_count": 43,
   "metadata": {},
   "outputs": [],
   "source": [
    "df.to_csv('result.csv')\n"
   ]
  },
  {
   "cell_type": "code",
   "execution_count": null,
   "metadata": {},
   "outputs": [],
   "source": []
  }
 ],
 "metadata": {
  "kernelspec": {
   "display_name": "ml",
   "language": "python",
   "name": "ml"
  },
  "language_info": {
   "codemirror_mode": {
    "name": "ipython",
    "version": 3
   },
   "file_extension": ".py",
   "mimetype": "text/x-python",
   "name": "python",
   "nbconvert_exporter": "python",
   "pygments_lexer": "ipython3",
   "version": "3.6.8"
  }
 },
 "nbformat": 4,
 "nbformat_minor": 2
}
