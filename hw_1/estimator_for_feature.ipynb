{
 "cells": [
  {
   "cell_type": "code",
   "execution_count": 1,
   "metadata": {},
   "outputs": [],
   "source": [
    "import numpy as np\n",
    "import pandas as pd"
   ]
  },
  {
   "cell_type": "code",
   "execution_count": 3,
   "metadata": {},
   "outputs": [],
   "source": [
    "data_path = 'data/train.csv'\n",
    "df = pd.read_csv(data_path, header=0, index_col=0, na_values='NR', \n",
    "                 encoding='gbk')\n",
    "df = df.fillna(0)"
   ]
  },
  {
   "cell_type": "code",
   "execution_count": 45,
   "metadata": {},
   "outputs": [],
   "source": [
    "ind = df.index\n",
    "f1 = df.loc[ind[0]].values\n",
    "\n",
    "mu = np.mean(f1)\n",
    "std = np.mean(f1)\n",
    "f1 = (f1-mu) / std"
   ]
  },
  {
   "cell_type": "code",
   "execution_count": 82,
   "metadata": {},
   "outputs": [],
   "source": [
    "def get_feature_train_data(feature, window=9):\n",
    "    X = []\n",
    "    Y = []\n",
    "    i = 0\n",
    "    j = i + window\n",
    "    while j < 24:\n",
    "        X.append(feature[:, i:j])\n",
    "        Y.append(feature[:, j])\n",
    "        i += 1\n",
    "        j += 1\n",
    "    X = np.concatenate(X, axis=0)\n",
    "    Y = np.concatenate(Y, axis=0)\n",
    "    X = X.T\n",
    "    m = Y.shape[0]\n",
    "    Y = Y.reshape(1, m)\n",
    "    \n",
    "    # 选取10% 的交叉验证集和10% 的测试集\n",
    "    size = (int)(m*0.2)\n",
    "\n",
    "    valid_test = np.random.choice(m, size, replace=False)\n",
    "    valid_test = np.split(valid_test, 2)\n",
    "    \n",
    "    valid = valid_test[0]\n",
    "    X_valid = X[:, valid]\n",
    "    Y_valid = Y[:, valid]\n",
    "    \n",
    "    test = valid_test[1]\n",
    "    X_test = X[:, test]\n",
    "    Y_test = Y[:, test]\n",
    "    \n",
    "    X = np.delete(X, valid_test, axis=1)\n",
    "    Y = np.delete(Y, valid_test, axis=1)\n",
    "    data = {}\n",
    "    data['train'] = [X, Y]\n",
    "    data['valid'] = [X_valid, Y_valid]\n",
    "    data['test'] = [X_test, Y_test]\n",
    "    return data"
   ]
  },
  {
   "cell_type": "code",
   "execution_count": 83,
   "metadata": {},
   "outputs": [],
   "source": [
    "data = get_feature_train_data(f1)\n"
   ]
  },
  {
   "cell_type": "code",
   "execution_count": null,
   "metadata": {},
   "outputs": [],
   "source": []
  },
  {
   "cell_type": "code",
   "execution_count": null,
   "metadata": {},
   "outputs": [],
   "source": []
  },
  {
   "cell_type": "code",
   "execution_count": 59,
   "metadata": {},
   "outputs": [],
   "source": []
  },
  {
   "cell_type": "code",
   "execution_count": 62,
   "metadata": {},
   "outputs": [],
   "source": []
  },
  {
   "cell_type": "code",
   "execution_count": null,
   "metadata": {},
   "outputs": [],
   "source": []
  },
  {
   "cell_type": "code",
   "execution_count": null,
   "metadata": {},
   "outputs": [],
   "source": []
  },
  {
   "cell_type": "code",
   "execution_count": null,
   "metadata": {},
   "outputs": [],
   "source": []
  },
  {
   "cell_type": "code",
   "execution_count": null,
   "metadata": {},
   "outputs": [],
   "source": []
  }
 ],
 "metadata": {
  "kernelspec": {
   "display_name": "ml",
   "language": "python",
   "name": "ml"
  },
  "language_info": {
   "codemirror_mode": {
    "name": "ipython",
    "version": 3
   },
   "file_extension": ".py",
   "mimetype": "text/x-python",
   "name": "python",
   "nbconvert_exporter": "python",
   "pygments_lexer": "ipython3",
   "version": "3.6.8"
  }
 },
 "nbformat": 4,
 "nbformat_minor": 2
}
