{
 "cells": [
  {
   "cell_type": "markdown",
   "metadata": {},
   "source": [
    "### 一、导入工具包"
   ]
  },
  {
   "cell_type": "code",
   "execution_count": 230,
   "metadata": {},
   "outputs": [],
   "source": [
    "import numpy as np\n",
    "import pandas as pd\n",
    "import matplotlib.pyplot as plt"
   ]
  },
  {
   "cell_type": "markdown",
   "metadata": {},
   "source": [
    "### 二、数据预处理\n",
    "\n",
    "数据文件是台中国台湾省（2014/1/1~2014/12/20）的空气质量监测数据，一共涉及18个空气质量指标，共240天24小时的数据。为了避免乱码问题，首先删除训练集源文件的前两列：日期列和“代”列（源文件标号为“代”，该列数据都是汉字伦）,并使用gbk编码打开。\n",
    "\n",
    "数据的预处理主要分为两步：\n",
    "\n",
    "- 构建使用其他17个指标预测PM2.5的训练集\n",
    "- 构建每个指标前 $n$ 天数据预测 $n+1$ 数据的训练集"
   ]
  },
  {
   "cell_type": "code",
   "execution_count": 360,
   "metadata": {},
   "outputs": [],
   "source": [
    "def normalization(data):\n",
    "    '''\n",
    "        采用z-score标准化数据\n",
    "        @param:\n",
    "            需要标准化的数据，numpy.ndarray类型\n",
    "        @return:\n",
    "            归一化后的数据\n",
    "    '''\n",
    "    mu = np.mean(data, axis=1, keepdims=True)\n",
    "    std = np.std(data, axis=1 ,keepdims=True)\n",
    "    data = (data - mu) / std\n",
    "    return data"
   ]
  },
  {
   "cell_type": "code",
   "execution_count": 391,
   "metadata": {},
   "outputs": [],
   "source": [
    "def process_for_17_pm(data_path):\n",
    "    '''\n",
    "    从源文件中加载数据，并且采用z-score方法对数据进行标准化，然后按照80%训练集\n",
    "    10%交叉验证集，10%测试集划分数据\n",
    "        @param: data_path csv文件路径\n",
    "        \n",
    "        (X,Y)训练数据二元组\n",
    "            x:包含去除PM2.5指标剩余的17个指标。\n",
    "              按列存储，即每一列表示一个时间的17个指标的样本，按照时间顺序依次排列（第1列数据\n",
    "              是2014/1/1 0时数据，第2列是214/1/1 1时数据，依次类推）。\n",
    "            y:对应时刻的PM2.5值\n",
    "    '''\n",
    "    # 指定第一行为列索引，第一列为行索引，将RAINFLALL所在行NR替换为NAN\n",
    "    df = pd.read_csv(data_path, header=0, index_col=0, na_values='NR', \n",
    "                 encoding='gbk')\n",
    "    \n",
    "    # 将NaN替换为0\n",
    "    df = df.fillna(0)\n",
    "    Y = df.loc['PM2.5'].values\n",
    "    Y = y.reshape(1,-1)\n",
    "    \n",
    "    df = df.drop(index='PM2.5')\n",
    "    \n",
    "    # 计算一个有多少天的数据\n",
    "    days = df.shape[0] // 17\n",
    "    \n",
    "    X = df.values\n",
    "    X = np.concatenate(np.vsplit(X, days), axis=1)\n",
    "    \n",
    "    X = normalization(X)\n",
    "    Y = normalization(Y)\n",
    "    \n",
    "    m = Y.shape[1]\n",
    "    size = (int)(m*0.2)\n",
    "    \n",
    "\n",
    "    valid_test = np.random.choice(m, size, replace=False)\n",
    "    valid_test = np.split(valid_test, 2)\n",
    "    \n",
    "    valid = valid_test[0]\n",
    "    X_valid = X[:, valid]\n",
    "    Y_valid = Y[:, valid]\n",
    "    \n",
    "    test = valid_test[1]\n",
    "    X_test = X[:, test]\n",
    "    Y_test = Y[:, test]\n",
    "    \n",
    "    X = np.delete(X, valid_test, axis=1)\n",
    "    Y = np.delete(Y, valid_test, axis=1)\n",
    "    \n",
    "    path = 'data/17_pm25/'\n",
    "    np.save(path + 'Xvalid.npy',X_valid)\n",
    "    np.save(path + 'Yvalid.npy',Y_valid)\n",
    "    \n",
    "    np.save(path + 'Xtest.npy',X_test)\n",
    "    np.save(path + 'Ytest.npy',Y_test)\n",
    "    \n",
    "    np.save(path + 'Xtrain.npy',X)\n",
    "    np.save(path + 'Ytrain.npy',Y)\n",
    "    \n",
    "    print('from 17 features inferring PM2.5 training data processing is OK')\n",
    "\n",
    "# data_path = 'data/train.csv'"
   ]
  },
  {
   "cell_type": "code",
   "execution_count": 392,
   "metadata": {},
   "outputs": [
    {
     "name": "stdout",
     "output_type": "stream",
     "text": [
      "from 17 features inferring PM2.5 training data processing is OK\n"
     ]
    }
   ],
   "source": [
    "\n",
    "data_path = 'data/train.csv'\n",
    "process_for_17_pm(data_path)\n"
   ]
  },
  {
   "cell_type": "code",
   "execution_count": 380,
   "metadata": {},
   "outputs": [],
   "source": [
    "def get_feature_train_data(feature, fname, window=9):\n",
    "    X = []\n",
    "    Y = []\n",
    "    i = 0\n",
    "    j = i + window\n",
    "    while j < 24:\n",
    "        X.append(feature[:, i:j])\n",
    "        Y.append(feature[:, j])\n",
    "        i += 1\n",
    "        j += 1\n",
    "    X = np.concatenate(X, axis=0)\n",
    "    Y = np.concatenate(Y, axis=0)\n",
    "    X = X.T\n",
    "    m = Y.shape[0]\n",
    "    Y = Y.reshape(1, m)\n",
    "    \n",
    "    # 选取10% 的交叉验证集和10% 的测试集\n",
    "    size = (int)(m*0.2)\n",
    "\n",
    "    valid_test = np.random.choice(m, size, replace=False)\n",
    "    valid_test = np.split(valid_test, 2)\n",
    "    \n",
    "    valid = valid_test[0]\n",
    "    X_valid = X[:, valid]\n",
    "    Y_valid = Y[:, valid]\n",
    "    \n",
    "    test = valid_test[1]\n",
    "    X_test = X[:, test]\n",
    "    Y_test = Y[:, test]\n",
    "    \n",
    "    X = np.delete(X, valid_test, axis=1)\n",
    "    Y = np.delete(Y, valid_test, axis=1)\n",
    "    \n",
    "    path = 'data/features/' + fname\n",
    "    np.save(path + '_Xvalid.npy',X_valid)\n",
    "    np.save(path + '_Yvalid.npy',Y_valid)\n",
    "    \n",
    "    np.save(path + '_Xtest.npy',X_test)\n",
    "    np.save(path + '_Ytest.npy',Y_test)\n",
    "    \n",
    "    np.save(path + '_Xtrain.npy',X)\n",
    "    np.save(path + '_Ytrain.npy',Y)"
   ]
  },
  {
   "cell_type": "code",
   "execution_count": 387,
   "metadata": {},
   "outputs": [],
   "source": [
    "def process_for_feature_infer(data_path):\n",
    "    df = pd.read_csv(data_path, header=0, index_col=0, na_values='NR', \n",
    "                 encoding='gbk')\n",
    "    df = df.fillna(0)\n",
    "    \n",
    "    ind = df.index\n",
    "#     kk = []\n",
    "    for k in range(18):\n",
    "        i = ind[k]\n",
    "        kk.append(i)\n",
    "        print(i)\n",
    "        feature = df.loc[i].values\n",
    "        mu = np.mean(feature)\n",
    "        std = np.mean(feature)\n",
    "        feature = (feature - mu) / std\n",
    "        get_feature_train_data(feature, i)\n",
    "    print('training data for infer feature from previous n hours to n+1 hour is OK')"
   ]
  },
  {
   "cell_type": "code",
   "execution_count": 389,
   "metadata": {},
   "outputs": [
    {
     "name": "stdout",
     "output_type": "stream",
     "text": [
      "training data for infer feature from previous n hours to n+1 hour is OK\n"
     ]
    }
   ],
   "source": [
    "data_path = 'data/train.csv'\n",
    "process_for_feature_infer(data_path)\n",
    "'''\n",
    "feature_index = [\n",
    "    'AMB_TEMP', 'CH4', 'CO', 'NMHC', 'NO', 'NO2',\n",
    "    'NOx', 'O3', 'PM10', 'PM2.5', 'RAINFALL', 'RH',\n",
    "    'SO2', 'THC', 'WD_HR', 'WIND_DIREC', 'WIND_SPEED',\n",
    "    'WS_HR'\n",
    "]\n",
    "'''"
   ]
  },
  {
   "cell_type": "code",
   "execution_count": 235,
   "metadata": {},
   "outputs": [],
   "source": [
    "def initialize_parameter(dim):\n",
    "    '''\n",
    "    初始化参数\n",
    "        @param:\n",
    "            参数的维度信息\n",
    "        @return:\n",
    "            随机初始化后的参数\n",
    "    '''\n",
    "    w = np.random.randn(1,dim)\n",
    "    b = np.zeros((1,1))\n",
    "    return w,b"
   ]
  },
  {
   "cell_type": "code",
   "execution_count": 236,
   "metadata": {},
   "outputs": [],
   "source": [
    "# 测试参数初始化函数\n",
    "w,b = initialize_parameter(17)"
   ]
  },
  {
   "cell_type": "markdown",
   "metadata": {},
   "source": [
    "### 三、训练模型\n",
    "\n",
    "线性模型的为\n",
    "$$\\hat{y} = \\sum_i w_i \\cdot x_i + b$$\n",
    "\n",
    "衡量模型优劣的代价函数（Loss Function）为 Mean Square Error\n",
    "$$L(y, \\hat{y}) = \\frac{1}{2} \\sum_k (\\hat{y}_k - y_k)^2$$\n",
    "\n",
    "采用梯度下降法（Gradient Descent）求解\n",
    "$$\\frac{\\partial L}{\\partial w_i } = (\\hat{y}_k - y_k) x_i$$"
   ]
  },
  {
   "cell_type": "markdown",
   "metadata": {},
   "source": [
    "#### 3.1 训练模型的基本函数"
   ]
  },
  {
   "cell_type": "code",
   "execution_count": 237,
   "metadata": {},
   "outputs": [],
   "source": [
    "def get_batch(index, batch_size, X, Y):\n",
    "    '''\n",
    "    根据batch size从训练集中获取训练数据\n",
    "        @param:\n",
    "            index：起点下标\n",
    "            batch_size：batch的大小\n",
    "            X：训练特征集（特征按列排放，即每一列就是一个训练样本）\n",
    "            Y：训练标记集（是一个行向量）\n",
    "        @return:\n",
    "            返回一个batch的训练数据或者None（数据已经取完）\n",
    "    \n",
    "    '''\n",
    "    x = None\n",
    "    y = None\n",
    "    j = index + batch_size\n",
    "    if j <= X.shape[1]:\n",
    "        pass\n",
    "    elif index < X.shape[1]:\n",
    "        j = X.shape[1]\n",
    "    else:\n",
    "        return None, None, None\n",
    "    \n",
    "    x = X[:, index : j]\n",
    "    y = Y[:, index : j]\n",
    "    index = j\n",
    "    return x, y, index\n",
    "        "
   ]
  },
  {
   "cell_type": "code",
   "execution_count": null,
   "metadata": {},
   "outputs": [],
   "source": []
  },
  {
   "cell_type": "code",
   "execution_count": 323,
   "metadata": {},
   "outputs": [],
   "source": [
    "def train(w, b, X, Y, alpha=0.005, iteration=100, batch_size=252, plotError=True):\n",
    "    '''\n",
    "    训练模型\n",
    "        @param:\n",
    "            模型参数w、b，训练数据（标准化后的）X，Y。学习速率alpha，迭代次数iteration，batch size\n",
    "        @return:\n",
    "            返回训练好的参数w、b\n",
    "    \n",
    "    '''\n",
    "    losses = []\n",
    "    for _ in range(iteration):\n",
    "        cur_index = 0\n",
    "        while True:\n",
    "            x, y, cur_index = get_batch(cur_index, batch_size, X, Y)\n",
    "            if x is None:\n",
    "                break\n",
    "            \n",
    "            y_ = np.dot(w, x) + b\n",
    "            m = y_.shape[1]\n",
    "            \n",
    "            diff = y_ - y\n",
    "            loss = 0.5 * np.sum(diff**2)\n",
    "            losses.append(loss)\n",
    "            \n",
    "            dw = 1/m * np.dot(diff, x.T)\n",
    "            db = 1/m * np.sum(diff, keepdims=True)\n",
    "            \n",
    "            w = w - alpha * dw\n",
    "            b = b - alpha * db\n",
    "\n",
    "    if plotError:\n",
    "        plt.plot(losses)\n",
    "        plt.xlabel('batch iteration times')\n",
    "        plt.ylabel('loss')\n",
    "        plt.show()\n",
    "    \n",
    "    print('after %d iterations with the batch size %d and learning rate %f' %(iteration, batch_size, alpha))\n",
    "    print('train set error is %.2f' % losses[-1])\n",
    "    return w,b"
   ]
  },
  {
   "cell_type": "code",
   "execution_count": null,
   "metadata": {},
   "outputs": [],
   "source": [
    "def test_error(w, b, tx, ty):\n",
    "    '''\n",
    "        @param:\n",
    "            w,b训练好的参数\n",
    "            tx,ty测试集数据（已标准化）\n",
    "        \n",
    "    '''\n",
    "    y_ = np.dot(w, tx) + b\n",
    "    loss = 0.5 * np.sum((y_ - ty)**2)\n",
    "    print('test set error is %.2f' %loss)\n",
    "# def test_error(w, b, tx, ty):\n",
    "#     # 标准化测试数据\n",
    "#     tx = normalization(tx)\n",
    "#     # 获取测试数据的均值和标准差\n",
    "#     mu = np.mean(ty, axis=1, keepdims=True)\n",
    "#     std = np.std(ty, axis=1 ,keepdims=True)\n",
    "    \n",
    "#     y_ = np.dot(w, tx) + b\n",
    "#     y_ = y_ * std + mu\n",
    "    \n",
    "#     loss = 0.5 * np.sum((y_ - ty)**2)\n",
    "# #     result = np.concatenate([y_.T,ty.T], axis=1)\n",
    "# #     result = pd.DataFrame(result)\n",
    "# #     result.to_csv('data/result2.csv')\n",
    "#     print('test set error is %.2f' %loss)"
   ]
  },
  {
   "cell_type": "markdown",
   "metadata": {},
   "source": [
    "#### 3.2训练17个指标预测PM2.5的模型\n"
   ]
  },
  {
   "cell_type": "code",
   "execution_count": null,
   "metadata": {},
   "outputs": [],
   "source": [
    "def main():\n",
    "    w, b = initialize_parameter(17)\n",
    "    data_path = 'data/train.csv'\n",
    "    x,y = load_from_csv(data_path)\n",
    "    x = normalization(x)\n",
    "    y = normalization(y)\n",
    "    alpha = 0.025\n",
    "    iteration = 1000\n",
    "    batch_size = 512\n",
    "    w,b = train(w, b, x, y,alpha,iteration,batch_size)\n",
    "    print('========================')"
   ]
  },
  {
   "cell_type": "markdown",
   "metadata": {},
   "source": [
    "### 四、验证模型\n",
    "\n",
    "首先需要对test.csv进行预处理，删除第一列id列，同时在第一行新插入一行，并填入标号（用作数据的列索引）。\n"
   ]
  },
  {
   "cell_type": "code",
   "execution_count": 354,
   "metadata": {},
   "outputs": [],
   "source": []
  },
  {
   "cell_type": "code",
   "execution_count": 357,
   "metadata": {},
   "outputs": [],
   "source": [
    "\n",
    "    \n",
    "#     test_path = 'data/test.csv'\n",
    "#     tx,ty = load_from_csv(test_path)\n",
    "#     test_error(w, b, tx, ty)"
   ]
  },
  {
   "cell_type": "code",
   "execution_count": 358,
   "metadata": {},
   "outputs": [
    {
     "data": {
      "image/png": "[encoded data removed]",
      "text/plain": [
       "<Figure size 432x288 with 1 Axes>"
      ]
     },
     "metadata": {
      "needs_background": "light"
     },
     "output_type": "display_data"
    },
    {
     "name": "stdout",
     "output_type": "stream",
     "text": [
      "after 1000 iterations with the batch size 512 and learning rate 0.025000\n",
      "train set error is 21.18\n",
      "========================\n"
     ]
    }
   ],
   "source": [
    "main()"
   ]
  },
  {
   "cell_type": "code",
   "execution_count": null,
   "metadata": {},
   "outputs": [],
   "source": []
  }
 ],
 "metadata": {
  "kernelspec": {
   "display_name": "ml",
   "language": "python",
   "name": "ml"
  },
  "language_info": {
   "codemirror_mode": {
    "name": "ipython",
    "version": 3
   },
   "file_extension": ".py",
   "mimetype": "text/x-python",
   "name": "python",
   "nbconvert_exporter": "python",
   "pygments_lexer": "ipython3",
   "version": "3.6.8"
  }
 },
 "nbformat": 4,
 "nbformat_minor": 2
}
