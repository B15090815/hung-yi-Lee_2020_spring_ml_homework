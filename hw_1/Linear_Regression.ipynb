{
 "cells": [
  {
   "cell_type": "markdown",
   "metadata": {},
   "source": [
    "### 一、导入工具包"
   ]
  },
  {
   "cell_type": "code",
   "execution_count": 1,
   "metadata": {},
   "outputs": [],
   "source": [
    "import numpy as np\n",
    "import pandas as pd\n",
    "import matplotlib.pyplot as plt"
   ]
  },
  {
   "cell_type": "markdown",
   "metadata": {},
   "source": [
    "### 二、数据预处理\n",
    "\n",
    "数据文件是台中国台湾省（2014/1/1~2014/12/20）的空气质量监测数据，一共涉及18个空气质量指标，共240天24小时的数据。为了避免乱码问题，首先删除训练集源文件的前两列：日期列和“代”列（源文件标号为“代”，该列数据都是汉字伦）,并使用gbk编码打开。\n",
    "\n",
    "数据的预处理主要分为两步：\n",
    "\n",
    "- 构建使用其他17个指标预测PM2.5的训练集\n",
    "- 构建每个指标前 $n$ 天数据预测 $n+1$ 数据的训练集"
   ]
  },
  {
   "cell_type": "code",
   "execution_count": 2,
   "metadata": {},
   "outputs": [],
   "source": [
    "def normalization(data):\n",
    "    '''\n",
    "        采用z-score标准化数据\n",
    "        @param:\n",
    "            需要标准化的数据，numpy.ndarray类型\n",
    "        @return:\n",
    "            归一化后的数据\n",
    "    '''\n",
    "    mu = np.mean(data, axis=1, keepdims=True)\n",
    "    std = np.std(data, axis=1 ,keepdims=True)\n",
    "    data = (data - mu) / std\n",
    "    return data"
   ]
  },
  {
   "cell_type": "code",
   "execution_count": 3,
   "metadata": {},
   "outputs": [],
   "source": [
    "def process_for_17_pm(data_path, path_to_save):\n",
    "    '''\n",
    "    从源文件中加载数据，并且采用z-score方法对数据进行标准化，然后按照80%训练集\n",
    "    10%交叉验证集，10%测试集划分数据\n",
    "        @param: data_path csv文件路径\n",
    "        \n",
    "        (X,Y)训练数据二元组\n",
    "            x:包含去除PM2.5指标剩余的17个指标。\n",
    "              按列存储，即每一列表示一个时间的17个指标的样本，按照时间顺序依次排列（第1列数据\n",
    "              是2014/1/1 0时数据，第2列是214/1/1 1时数据，依次类推）。\n",
    "            y:对应时刻的PM2.5值\n",
    "    '''\n",
    "    # 指定第一行为列索引，第一列为行索引，将RAINFLALL所在行NR替换为NAN\n",
    "    df = pd.read_csv(data_path, header=0, index_col=0, na_values='NR', \n",
    "                 encoding='gbk')\n",
    "    \n",
    "    # 将NaN替换为0\n",
    "    df = df.fillna(0)\n",
    "    Y = df.loc['PM2.5'].values\n",
    "    Y = y.reshape(1,-1)\n",
    "    \n",
    "    df = df.drop(index='PM2.5')\n",
    "    \n",
    "    # 计算一个有多少天的数据\n",
    "    days = df.shape[0] // 17\n",
    "    \n",
    "    X = df.values\n",
    "    X = np.concatenate(np.vsplit(X, days), axis=1)\n",
    "    \n",
    "    X = normalization(X)\n",
    "    Y = normalization(Y)\n",
    "    \n",
    "    m = Y.shape[1]\n",
    "    size = (int)(m*0.2)\n",
    "    \n",
    "\n",
    "    valid_test = np.random.choice(m, size, replace=False)\n",
    "    valid_test = np.split(valid_test, 2)\n",
    "    \n",
    "    valid = valid_test[0]\n",
    "    X_valid = X[:, valid]\n",
    "    Y_valid = Y[:, valid]\n",
    "    \n",
    "    test = valid_test[1]\n",
    "    X_test = X[:, test]\n",
    "    Y_test = Y[:, test]\n",
    "    \n",
    "    X = np.delete(X, valid_test, axis=1)\n",
    "    Y = np.delete(Y, valid_test, axis=1)\n",
    "    \n",
    "    path = path_to_save\n",
    "    \n",
    "    np.save(path + 'Xvalid.npy',X_valid)\n",
    "    np.save(path + 'Yvalid.npy',Y_valid)\n",
    "    \n",
    "    np.save(path + 'Xtest.npy',X_test)\n",
    "    np.save(path + 'Ytest.npy',Y_test)\n",
    "    \n",
    "    np.save(path + 'Xtrain.npy',X)\n",
    "    np.save(path + 'Ytrain.npy',Y)\n",
    "    \n",
    "    print('from 17 features inferring PM2.5 training data processing is OK')\n",
    "\n",
    "# data_path = 'data/train.csv'"
   ]
  },
  {
   "cell_type": "code",
   "execution_count": 4,
   "metadata": {},
   "outputs": [],
   "source": [
    "# 预处理使用17个指标预测PM2.5的数据并保存\n",
    "\n",
    "# data_path = 'data/train.csv'\n",
    "# path = 'data/17_pm25/'\n",
    "# process_for_17_pm(data_path)\n"
   ]
  },
  {
   "cell_type": "code",
   "execution_count": 5,
   "metadata": {},
   "outputs": [],
   "source": [
    "def get_feature_train_data(feature, fname, path_to_save ,window=9):\n",
    "    '''\n",
    "    将数据集中所有属于该指标的数据按照窗口值生成训练数据，一个列向量为一个样本。\n",
    "    并按照8:1:1的比例划分训练集、验证集和测试集，最后保存数据到本地。\n",
    "    @param:\n",
    "        feature：指标数组矩阵\n",
    "        fname：指标名，如NO、PM2.5等\n",
    "        path_to_save：保存数据的路径\n",
    "        window：选取擦窗口内的值预测下一时刻的数据\n",
    "    '''\n",
    "    X = []\n",
    "    Y = []\n",
    "    i = 0\n",
    "    j = i + window\n",
    "    while j < 24:\n",
    "        X.append(feature[:, i:j])\n",
    "        Y.append(feature[:, j])\n",
    "        i += 1\n",
    "        j += 1\n",
    "    X = np.concatenate(X, axis=0)\n",
    "    Y = np.concatenate(Y, axis=0)\n",
    "    X = X.T\n",
    "    m = Y.shape[0]\n",
    "    Y = Y.reshape(1, m)\n",
    "    \n",
    "    # 选取10% 的交叉验证集和10% 的测试集\n",
    "    size = (int)(m*0.2)\n",
    "\n",
    "    valid_test = np.random.choice(m, size, replace=False)\n",
    "    valid_test = np.split(valid_test, 2)\n",
    "    \n",
    "    valid = valid_test[0]\n",
    "    X_valid = X[:, valid]\n",
    "    Y_valid = Y[:, valid]\n",
    "    \n",
    "    test = valid_test[1]\n",
    "    X_test = X[:, test]\n",
    "    Y_test = Y[:, test]\n",
    "    \n",
    "    X = np.delete(X, valid_test, axis=1)\n",
    "    Y = np.delete(Y, valid_test, axis=1)\n",
    "    \n",
    "    path = path_to_save + fname + '_'\n",
    "    np.save(path + 'Xvalid.npy',X_valid)\n",
    "    np.save(path + 'Yvalid.npy',Y_valid)\n",
    "    \n",
    "    np.save(path + 'Xtest.npy',X_test)\n",
    "    np.save(path + 'Ytest.npy',Y_test)\n",
    "    \n",
    "    np.save(path + 'Xtrain.npy',X)\n",
    "    np.save(path + 'Ytrain.npy',Y)"
   ]
  },
  {
   "cell_type": "code",
   "execution_count": 6,
   "metadata": {},
   "outputs": [],
   "source": [
    "def process_for_feature_infer(data_path):\n",
    "    df = pd.read_csv(data_path, header=0, index_col=0, na_values='NR', \n",
    "                 encoding='gbk')\n",
    "    df = df.fillna(0)\n",
    "    \n",
    "    ind = df.index\n",
    "    path_to_save = 'data/features/'\n",
    "    for k in range(18):\n",
    "        i = ind[k]\n",
    "        feature = df.loc[i].values\n",
    "        mu = np.mean(feature)\n",
    "        std = np.mean(feature)\n",
    "        feature = (feature - mu) / std\n",
    "        get_feature_train_data(feature, i, path_to_save)\n",
    "    print('training data for infer feature from previous n hours to n+1 hour is OK')"
   ]
  },
  {
   "cell_type": "code",
   "execution_count": 84,
   "metadata": {},
   "outputs": [],
   "source": [
    "# 预处理每个指标使用前n天数据预测n+1天数据\n",
    "\n",
    "# data_path = 'data/train.csv'\n",
    "# process_for_feature_infer(data_path)"
   ]
  },
  {
   "cell_type": "code",
   "execution_count": 8,
   "metadata": {},
   "outputs": [],
   "source": [
    "def initialize_parameter(dim):\n",
    "    '''\n",
    "    初始化参数\n",
    "        @param:\n",
    "            参数的维度信息\n",
    "        @return:\n",
    "            随机初始化后的参数\n",
    "    '''\n",
    "    w = np.random.randn(1,dim)\n",
    "    b = np.zeros((1,1))\n",
    "    return w,b"
   ]
  },
  {
   "cell_type": "code",
   "execution_count": 236,
   "metadata": {},
   "outputs": [],
   "source": [
    "# 测试参数初始化函数\n",
    "# w,b = initialize_parameter(17)\n",
    "# print('W:', w)\n",
    "# print('b:', b)"
   ]
  },
  {
   "cell_type": "markdown",
   "metadata": {},
   "source": [
    "### 三、训练模型\n",
    "\n",
    "线性模型的为\n",
    "$$\\hat{y} = \\sum_i w_i \\cdot x_i + b$$\n",
    "\n",
    "衡量模型优劣的代价函数（Loss Function）为 Mean Square Error\n",
    "$$L(y, \\hat{y}) = \\frac{1}{2} \\sum_k (\\hat{y}_k - y_k)^2$$\n",
    "\n",
    "采用梯度下降法（Gradient Descent）求解\n",
    "$$\\frac{\\partial L}{\\partial w_i } = (\\hat{y}_k - y_k) x_i$$"
   ]
  },
  {
   "cell_type": "markdown",
   "metadata": {},
   "source": [
    "#### 3.1 训练模型的基本函数"
   ]
  },
  {
   "cell_type": "code",
   "execution_count": 9,
   "metadata": {},
   "outputs": [],
   "source": [
    "def get_batch(index, batch_size, X, Y):\n",
    "    '''\n",
    "    根据batch size从训练集中获取训练数据\n",
    "        @param:\n",
    "            index：起点下标\n",
    "            batch_size：batch的大小\n",
    "            X：训练特征集（特征按列排放，即每一列就是一个训练样本）\n",
    "            Y：训练标记集（是一个行向量）\n",
    "        @return:\n",
    "            返回一个batch的训练数据或者None（数据已经取完）\n",
    "    \n",
    "    '''\n",
    "    x = None\n",
    "    y = None\n",
    "    j = index + batch_size\n",
    "    if j <= X.shape[1]:\n",
    "        pass\n",
    "    elif index < X.shape[1]:\n",
    "        j = X.shape[1]\n",
    "    else:\n",
    "        return None, None, None\n",
    "    \n",
    "    x = X[:, index : j]\n",
    "    y = Y[:, index : j]\n",
    "    index = j\n",
    "    return x, y, index\n",
    "        "
   ]
  },
  {
   "cell_type": "code",
   "execution_count": null,
   "metadata": {},
   "outputs": [],
   "source": []
  },
  {
   "cell_type": "code",
   "execution_count": 29,
   "metadata": {},
   "outputs": [],
   "source": [
    "def train(w, b, X, Y, alpha=0.005, iteration=100, batch_size=252, plotError=True):\n",
    "    '''\n",
    "    训练模型\n",
    "        @param:\n",
    "            模型参数w、b，训练数据（标准化后的）X，Y。学习速率alpha，迭代次数iteration，batch size\n",
    "        @return:\n",
    "            返回训练好的参数w、b\n",
    "    \n",
    "    '''\n",
    "    losses = []\n",
    "    for _ in range(iteration):\n",
    "        cur_index = 0\n",
    "        while True:\n",
    "            x, y, cur_index = get_batch(cur_index, batch_size, X, Y)\n",
    "            if x is None:\n",
    "                break\n",
    "            \n",
    "            y_ = np.dot(w, x) + b\n",
    "            m = y_.shape[1]\n",
    "            \n",
    "            diff = y_ - y\n",
    "            loss = 0.5 * np.sum(diff**2)\n",
    "            losses.append(loss)\n",
    "            \n",
    "            dw = 1/m * np.dot(diff, x.T)\n",
    "            db = 1/m * np.sum(diff, keepdims=True)\n",
    "            \n",
    "            w = w - alpha * dw\n",
    "            b = b - alpha * db\n",
    "\n",
    "    if plotError:\n",
    "        plt.plot(losses)\n",
    "        plt.xlabel('batch iteration times')\n",
    "        plt.ylabel('loss')\n",
    "        plt.show()\n",
    "    \n",
    "    print('After %d iterations with the batch size %d and learning rate %f' %(iteration, batch_size, alpha))\n",
    "    print('Train set error is %.2f' % losses[-1])\n",
    "    return w,b"
   ]
  },
  {
   "cell_type": "code",
   "execution_count": 55,
   "metadata": {},
   "outputs": [],
   "source": [
    "def test_error(w, b, tx, ty):\n",
    "    '''\n",
    "        @param:\n",
    "            w,b训练好的参数\n",
    "            tx,ty测试集数据（已标准化）\n",
    "        \n",
    "    '''\n",
    "    y_ = np.dot(w, tx) + b\n",
    "    loss = 0.5 * np.sum((y_ - ty)**2)\n",
    "    print('Valid/Test set error is %.2f' %loss)"
   ]
  },
  {
   "cell_type": "markdown",
   "metadata": {},
   "source": [
    "#### 3.2训练17个指标预测PM2.5的模型\n"
   ]
  },
  {
   "cell_type": "code",
   "execution_count": 67,
   "metadata": {},
   "outputs": [],
   "source": [
    "def main(dim, Xtrain_p, Ytrain_p, Xvalid_p, Yvalid_p,         \n",
    "         alpha=0.025, iteration=1000, batch_size=256):\n",
    "    w, b = initialize_parameter(dim)\n",
    "    Xtrain = np.load(Xtrain_p)\n",
    "    Ytrian = np.load(Ytrain_p)\n",
    "    \n",
    "    w,b = train(w, b, Xtrain, Ytrian,alpha,iteration,batch_size)\n",
    "    print('========================')\n",
    "    \n",
    "    Xvalid = np.load(Xvalid_p)\n",
    "    Yvalid = np.load(Yvalid_p)\n",
    "    test_error(w, b, Xvalid, Yvalid)\n",
    "    \n",
    "    return w,b\n",
    "  "
   ]
  },
  {
   "cell_type": "code",
   "execution_count": null,
   "metadata": {},
   "outputs": [],
   "source": [
    "dim = 17\n",
    "prefix = 'data/17_pm25/'\n",
    "\n",
    "Xtrain = prefix + 'Xtrain.npy'\n",
    "Ytrain = prefix + 'Ytrain.npy'\n",
    "\n",
    "\n",
    "alpha = 0.025\n",
    "iteration = 1000\n",
    "batch_size = 512\n",
    "\n",
    "Xvalid = prefix + 'Xvalid.npy'\n",
    "Yvalid = prefix + 'Yvalid.npy'"
   ]
  },
  {
   "cell_type": "markdown",
   "metadata": {},
   "source": [
    "#### 依次训练每个指标的预测模型"
   ]
  },
  {
   "cell_type": "code",
   "execution_count": 69,
   "metadata": {},
   "outputs": [
    {
     "data": {
      "image/png": "[encoded data removed]",
      "text/plain": [
       "<Figure size 432x288 with 1 Axes>"
      ]
     },
     "metadata": {
      "needs_background": "light"
     },
     "output_type": "display_data"
    },
    {
     "name": "stdout",
     "output_type": "stream",
     "text": [
      "After 1000 iterations with the batch size 512 and learning rate 0.025000\n",
      "Train set error is 99.35\n",
      "========================\n",
      "Valid/Test set error is 104.51\n"
     ]
    }
   ],
   "source": [
    "w, b = main(dim, Xtrain, Ytrain, Xvalid, Yvalid, alpha, iteration, batch_size)"
   ]
  },
  {
   "cell_type": "code",
   "execution_count": 70,
   "metadata": {},
   "outputs": [],
   "source": [
    "save_param = False\n",
    "\n",
    "if save_param:\n",
    "    np.save(prefix + 'w.npy', w)\n",
    "    np.save(prefix + 'b.npy', b)"
   ]
  },
  {
   "cell_type": "markdown",
   "metadata": {},
   "source": [
    "#### 3.3训练各个指标 前n天预测第n+1天数据的模型"
   ]
  },
  {
   "cell_type": "code",
   "execution_count": 87,
   "metadata": {},
   "outputs": [],
   "source": [
    "def train_each_feature_estimator(feature, alpha, iteration, batch_size, save_param = False):\n",
    "    print('Now training the feature:', feature)\n",
    "    dim = 9\n",
    "    prefix =r'data/features/' + feature + '_'\n",
    "    Xtrain = prefix + 'Xtrain.npy'\n",
    "    Ytrain = prefix + 'Ytrain.npy'\n",
    "\n",
    "\n",
    "#     alpha = 0.025\n",
    "#     iteration = 1000\n",
    "#     batch_size = 256\n",
    "\n",
    "\n",
    "    Xvalid = prefix + 'Xvalid.npy'\n",
    "    Yvalid = prefix + 'Yvalid.npy'\n",
    "\n",
    "    w, b = main(dim, Xtrain, Ytrain, Xvalid, Yvalid, alpha, iteration, batch_size)\n",
    "    \n",
    "    if save_param:\n",
    "        np.save(prefix + 'w.npy', w)\n",
    "        np.save(prefix + 'b.npy', b)\n"
   ]
  },
  {
   "cell_type": "code",
   "execution_count": 121,
   "metadata": {},
   "outputs": [
    {
     "name": "stdout",
     "output_type": "stream",
     "text": [
      "Now training the feature: NO2\n"
     ]
    },
    {
     "data": {
      "image/png": "[encoded data removed]",
      "text/plain": [
       "<Figure size 432x288 with 1 Axes>"
      ]
     },
     "metadata": {
      "needs_background": "light"
     },
     "output_type": "display_data"
    },
    {
     "name": "stdout",
     "output_type": "stream",
     "text": [
      "After 1000 iterations with the batch size 100000 and learning rate 0.025000\n",
      "Train set error is 187.98\n",
      "========================\n",
      "Valid/Test set error is 24.58\n"
     ]
    }
   ],
   "source": [
    "\n",
    "'''\n",
    "feature_index = [\n",
    "    'AMB_TEMP', 'CH4', 'CO', 'NMHC', 'NO', 'NO2',\n",
    "    'NOx', 'O3', 'PM10', 'PM2.5', 'RAINFALL', 'RH',\n",
    "    'SO2', 'THC', 'WD_HR', 'WIND_DIREC', 'WIND_SPEED',\n",
    "    'WS_HR'\n",
    "]\n",
    "'''\n",
    "\n",
    "train_each_feature_estimator('NO2', 0.025, 1000, 100000, True)"
   ]
  },
  {
   "cell_type": "code",
   "execution_count": null,
   "metadata": {},
   "outputs": [],
   "source": [
    "train_each_feature_estimator('AMB_TEMP', 0.025, 1000, 256)"
   ]
  },
  {
   "cell_type": "code",
   "execution_count": null,
   "metadata": {},
   "outputs": [],
   "source": [
    "train_each_feature_estimator('AMB_TEMP', 0.005, 1000, 512, True)"
   ]
  },
  {
   "cell_type": "code",
   "execution_count": null,
   "metadata": {},
   "outputs": [],
   "source": [
    "train_each_feature_estimator('CH4', 0.025, 1000, 512, True)"
   ]
  },
  {
   "cell_type": "code",
   "execution_count": null,
   "metadata": {},
   "outputs": [],
   "source": [
    "train_each_feature_estimator('CO', 0.025, 1000, 100000, True)"
   ]
  },
  {
   "cell_type": "code",
   "execution_count": null,
   "metadata": {},
   "outputs": [],
   "source": [
    "train_each_feature_estimator('NMHC', 0.025, 1000, 100000, True)"
   ]
  },
  {
   "cell_type": "code",
   "execution_count": null,
   "metadata": {},
   "outputs": [],
   "source": [
    "train_each_feature_estimator('NO', 0.025, 1000, 100000, True)"
   ]
  },
  {
   "cell_type": "code",
   "execution_count": 131,
   "metadata": {},
   "outputs": [
    {
     "name": "stdout",
     "output_type": "stream",
     "text": [
      "Now training the feature: O3\n"
     ]
    },
    {
     "data": {
      "image/png": "[encoded data removed]",
      "text/plain": [
       "<Figure size 432x288 with 1 Axes>"
      ]
     },
     "metadata": {
      "needs_background": "light"
     },
     "output_type": "display_data"
    },
    {
     "name": "stdout",
     "output_type": "stream",
     "text": [
      "After 2000 iterations with the batch size 100000 and learning rate 0.025000\n",
      "Train set error is 134.84\n",
      "========================\n",
      "Valid/Test set error is 13.10\n"
     ]
    }
   ],
   "source": [
    "train_each_feature_estimator('O3', 0.025, 2000, 100000, True)"
   ]
  },
  {
   "cell_type": "code",
   "execution_count": 135,
   "metadata": {},
   "outputs": [
    {
     "name": "stdout",
     "output_type": "stream",
     "text": [
      "Now training the feature: PM10\n"
     ]
    },
    {
     "data": {
      "image/png": "[encoded data removed]",
      "text/plain": [
       "<Figure size 432x288 with 1 Axes>"
      ]
     },
     "metadata": {
      "needs_background": "light"
     },
     "output_type": "display_data"
    },
    {
     "name": "stdout",
     "output_type": "stream",
     "text": [
      "After 3000 iterations with the batch size 100000 and learning rate 0.025000\n",
      "Train set error is 115.13\n",
      "========================\n",
      "Valid/Test set error is 9.47\n"
     ]
    }
   ],
   "source": [
    "train_each_feature_estimator('PM10', 0.025, 3000, 100000, True)"
   ]
  },
  {
   "cell_type": "code",
   "execution_count": 139,
   "metadata": {},
   "outputs": [
    {
     "name": "stdout",
     "output_type": "stream",
     "text": [
      "Now training the feature: PM2.5\n"
     ]
    },
    {
     "data": {
      "image/png": "[encoded data removed]",
      "text/plain": [
       "<Figure size 432x288 with 1 Axes>"
      ]
     },
     "metadata": {
      "needs_background": "light"
     },
     "output_type": "display_data"
    },
    {
     "name": "stdout",
     "output_type": "stream",
     "text": [
      "After 4000 iterations with the batch size 100000 and learning rate 0.035000\n",
      "Train set error is 134.97\n",
      "========================\n",
      "Valid/Test set error is 15.48\n"
     ]
    }
   ],
   "source": [
    "train_each_feature_estimator('PM2.5', 0.035, 4000, 100000, True)"
   ]
  },
  {
   "cell_type": "code",
   "execution_count": 146,
   "metadata": {},
   "outputs": [
    {
     "name": "stdout",
     "output_type": "stream",
     "text": [
      "Now training the feature: RAINFALL\n"
     ]
    },
    {
     "data": {
      "image/png": "[encoded data removed]",
      "text/plain": [
       "<Figure size 432x288 with 1 Axes>"
      ]
     },
     "metadata": {
      "needs_background": "light"
     },
     "output_type": "display_data"
    },
    {
     "name": "stdout",
     "output_type": "stream",
     "text": [
      "After 2000 iterations with the batch size 100000 and learning rate 0.002500\n",
      "Train set error is 150505.22\n",
      "========================\n",
      "Valid/Test set error is 38781.92\n"
     ]
    }
   ],
   "source": [
    "train_each_feature_estimator('RAINFALL', 0.0025, 2000, 100000, True)"
   ]
  },
  {
   "cell_type": "code",
   "execution_count": 149,
   "metadata": {},
   "outputs": [
    {
     "name": "stdout",
     "output_type": "stream",
     "text": [
      "Now training the feature: RH\n"
     ]
    },
    {
     "data": {
      "image/png": "[encoded data removed]",
      "text/plain": [
       "<Figure size 432x288 with 1 Axes>"
      ]
     },
     "metadata": {
      "needs_background": "light"
     },
     "output_type": "display_data"
    },
    {
     "name": "stdout",
     "output_type": "stream",
     "text": [
      "After 2000 iterations with the batch size 100000 and learning rate 0.025000\n",
      "Train set error is 14.77\n",
      "========================\n",
      "Valid/Test set error is 1.75\n"
     ]
    }
   ],
   "source": [
    "train_each_feature_estimator('RH', 0.025, 2000, 100000, True)"
   ]
  },
  {
   "cell_type": "code",
   "execution_count": 153,
   "metadata": {},
   "outputs": [
    {
     "name": "stdout",
     "output_type": "stream",
     "text": [
      "Now training the feature: SO2\n"
     ]
    },
    {
     "data": {
      "image/png": "[encoded data removed]",
      "text/plain": [
       "<Figure size 432x288 with 1 Axes>"
      ]
     },
     "metadata": {
      "needs_background": "light"
     },
     "output_type": "display_data"
    },
    {
     "name": "stdout",
     "output_type": "stream",
     "text": [
      "After 4000 iterations with the batch size 100000 and learning rate 0.025000\n",
      "Train set error is 343.18\n",
      "========================\n",
      "Valid/Test set error is 50.44\n"
     ]
    }
   ],
   "source": [
    "train_each_feature_estimator('SO2', 0.025, 4000, 100000, True)"
   ]
  },
  {
   "cell_type": "code",
   "execution_count": 157,
   "metadata": {},
   "outputs": [
    {
     "name": "stdout",
     "output_type": "stream",
     "text": [
      "Now training the feature: THC\n"
     ]
    },
    {
     "data": {
      "image/png": "[encoded data removed]",
      "text/plain": [
       "<Figure size 432x288 with 1 Axes>"
      ]
     },
     "metadata": {
      "needs_background": "light"
     },
     "output_type": "display_data"
    },
    {
     "name": "stdout",
     "output_type": "stream",
     "text": [
      "After 10000 iterations with the batch size 100000 and learning rate 0.002500\n",
      "Train set error is 95.48\n",
      "========================\n",
      "Valid/Test set error is 11.61\n"
     ]
    }
   ],
   "source": [
    "train_each_feature_estimator('THC', 0.0025, 10000, 100000, True)"
   ]
  },
  {
   "cell_type": "code",
   "execution_count": 160,
   "metadata": {},
   "outputs": [
    {
     "name": "stdout",
     "output_type": "stream",
     "text": [
      "Now training the feature: WD_HR\n"
     ]
    },
    {
     "data": {
      "image/png": "[encoded data removed]",
      "text/plain": [
       "<Figure size 432x288 with 1 Axes>"
      ]
     },
     "metadata": {
      "needs_background": "light"
     },
     "output_type": "display_data"
    },
    {
     "name": "stdout",
     "output_type": "stream",
     "text": [
      "After 2000 iterations with the batch size 100000 and learning rate 0.025000\n",
      "Train set error is 386.30\n",
      "========================\n",
      "Valid/Test set error is 37.42\n"
     ]
    }
   ],
   "source": [
    "train_each_feature_estimator('WD_HR', 0.025, 2000, 100000, True)"
   ]
  },
  {
   "cell_type": "code",
   "execution_count": 161,
   "metadata": {},
   "outputs": [
    {
     "name": "stdout",
     "output_type": "stream",
     "text": [
      "Now training the feature: WIND_DIREC\n"
     ]
    },
    {
     "data": {
      "image/png": "[encoded data removed]",
      "text/plain": [
       "<Figure size 432x288 with 1 Axes>"
      ]
     },
     "metadata": {
      "needs_background": "light"
     },
     "output_type": "display_data"
    },
    {
     "name": "stdout",
     "output_type": "stream",
     "text": [
      "After 2000 iterations with the batch size 100000 and learning rate 0.025000\n",
      "Train set error is 391.21\n",
      "========================\n",
      "Valid/Test set error is 50.09\n"
     ]
    }
   ],
   "source": [
    "train_each_feature_estimator('WIND_DIREC', 0.025, 2000, 100000, True)"
   ]
  },
  {
   "cell_type": "code",
   "execution_count": 163,
   "metadata": {},
   "outputs": [
    {
     "name": "stdout",
     "output_type": "stream",
     "text": [
      "Now training the feature: WIND_SPEED\n"
     ]
    },
    {
     "data": {
      "image/png": "[encoded data removed]",
      "text/plain": [
       "<Figure size 432x288 with 1 Axes>"
      ]
     },
     "metadata": {
      "needs_background": "light"
     },
     "output_type": "display_data"
    },
    {
     "name": "stdout",
     "output_type": "stream",
     "text": [
      "After 5000 iterations with the batch size 100000 and learning rate 0.025000\n",
      "Train set error is 147.44\n",
      "========================\n",
      "Valid/Test set error is 16.84\n"
     ]
    }
   ],
   "source": [
    "train_each_feature_estimator('WIND_SPEED', 0.025, 5000, 100000, True)"
   ]
  },
  {
   "cell_type": "code",
   "execution_count": 164,
   "metadata": {},
   "outputs": [
    {
     "name": "stdout",
     "output_type": "stream",
     "text": [
      "Now training the feature: WS_HR\n"
     ]
    },
    {
     "data": {
      "image/png": "[encoded data removed]",
      "text/plain": [
       "<Figure size 432x288 with 1 Axes>"
      ]
     },
     "metadata": {
      "needs_background": "light"
     },
     "output_type": "display_data"
    },
    {
     "name": "stdout",
     "output_type": "stream",
     "text": [
      "After 2000 iterations with the batch size 100000 and learning rate 0.025000\n",
      "Train set error is 212.62\n",
      "========================\n",
      "Valid/Test set error is 30.50\n"
     ]
    }
   ],
   "source": [
    "train_each_feature_estimator('WS_HR', 0.025, 2000, 100000, True)"
   ]
  },
  {
   "cell_type": "markdown",
   "metadata": {},
   "source": [
    "### 四、模型预测\n",
    "\n",
    "首先需要对test.csv进行预处理，删除第一列id列，同时在第一行新插入一行，并填入标号（用作数据的列索引）。\n"
   ]
  },
  {
   "cell_type": "code",
   "execution_count": 197,
   "metadata": {},
   "outputs": [],
   "source": [
    "test_path = 'data/test.csv'\n",
    "df = pd.read_csv(test_path, header=0, index_col=0, na_values='NR', \n",
    "                 encoding='gbk')\n",
    "df = df.fillna(0)\n",
    "feature_index = [\n",
    "    'AMB_TEMP', 'CH4', 'CO', 'NMHC', 'NO', 'NO2',\n",
    "    'NOx', 'O3', 'PM10', 'PM2.5', 'RAINFALL', 'RH',\n",
    "    'SO2', 'THC', 'WD_HR', 'WIND_DIREC', 'WIND_SPEED',\n",
    "    'WS_HR'\n",
    "]\n",
    "predict_feature = []\n",
    "# PM2.5模型另外保存\n",
    "pm25 = None\n",
    "for fname in feature_index:\n",
    "    feature = df.loc[fname].values\n",
    "    feature = feature.T\n",
    "    mu = np.mean(feature)\n",
    "    std = np.std(feature)\n",
    "    feature = (feature - mu) / std\n",
    "    prefix = 'data/features/' + fname + '_'\n",
    "    w = np.load(prefix + 'w.npy')\n",
    "    b = np.load(prefix + 'b.npy')\n",
    "\n",
    "    y_ = np.dot(w, feature) + b\n",
    "    y_ = y_ * std + mu\n",
    "    if fname !='PM2.5':\n",
    "        predict_feature.append(y_)\n",
    "    else:\n",
    "        pm25 = y_\n"
   ]
  },
  {
   "cell_type": "code",
   "execution_count": null,
   "metadata": {},
   "outputs": [],
   "source": []
  },
  {
   "cell_type": "code",
   "execution_count": 199,
   "metadata": {},
   "outputs": [],
   "source": [
    "feature = np.concatenate(predict_feature, axis=0)\n",
    "w = np.load('data/17_pm25/w.npy')\n",
    "b = np.load('data/17_pm25/b.npy')\n",
    "Y_hat = np.dot(w, feature) + b"
   ]
  },
  {
   "cell_type": "code",
   "execution_count": null,
   "metadata": {},
   "outputs": [],
   "source": []
  },
  {
   "cell_type": "code",
   "execution_count": 208,
   "metadata": {},
   "outputs": [],
   "source": [
    "\n",
    "index = [ 'id_'+ str(i) for i in range(240) ]\n",
    "# result = np.concatenate([Y_hat.T, pm25.T], axis=1)\n",
    "#使用预测所得的17个指标数据预测PM2.5\n",
    "data_save = pd.DataFrame(Y_hat.T, index=index, columns=['value'])\n",
    "data_save.to_csv('data/17pm25_result.csv')\n",
    "\n",
    "# 直接使用前n天预测n+1天数据的模型进行预测\n",
    "data_save = pd.DataFrame(pm25.T, index=index, columns=['value'])\n",
    "data_save.to_csv('data/predict_result.csv')"
   ]
  }
 ],
 "metadata": {
  "kernelspec": {
   "display_name": "ml",
   "language": "python",
   "name": "ml"
  },
  "language_info": {
   "codemirror_mode": {
    "name": "ipython",
    "version": 3
   },
   "file_extension": ".py",
   "mimetype": "text/x-python",
   "name": "python",
   "nbconvert_exporter": "python",
   "pygments_lexer": "ipython3",
   "version": "3.6.8"
  }
 },
 "nbformat": 4,
 "nbformat_minor": 2
}
