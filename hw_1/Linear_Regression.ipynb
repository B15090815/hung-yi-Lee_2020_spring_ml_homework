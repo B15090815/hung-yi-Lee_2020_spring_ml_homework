{
 "cells": [
  {
   "cell_type": "markdown",
   "metadata": {},
   "source": [
    "### 一、导入工具包"
   ]
  },
  {
   "cell_type": "code",
   "execution_count": 230,
   "metadata": {},
   "outputs": [],
   "source": [
    "import numpy as np\n",
    "import pandas as pd\n",
    "import matplotlib.pyplot as plt"
   ]
  },
  {
   "cell_type": "markdown",
   "metadata": {},
   "source": [
    "### 二、数据预处理\n",
    "\n",
    "数据文件是台中国台湾省（2014/1/1~2014/12/20）的空气质量监测数据，一共涉及18个空气质量指标，共240天24小时的数据。为了避免乱码问题，首先删除训练集源文件的前两列：日期列和“代”列（源文件标号为“代”，该列数据都是汉字伦）,并使用gbk编码打开。"
   ]
  },
  {
   "cell_type": "code",
   "execution_count": 231,
   "metadata": {},
   "outputs": [],
   "source": [
    "def load_from_csv(data_path):\n",
    "    '''\n",
    "        @param: data_path csv文件路径\n",
    "        @return:(x,y)训练数据二元组\n",
    "            x:包含去除PM2.5指标剩余的17个指标。\n",
    "              按列存储，即每一列表示一个时间的17个指标的样本，按照时间顺序依次排列（第1列数据\n",
    "              是2014/1/1 0时数据，第2列是214/1/1 1时数据，依次类推）。\n",
    "            y:对应时刻的PM2.5值\n",
    "    '''\n",
    "    # 指定第一行为列索引，第一列为行索引，将RAINFLALL所在行NR替换为NAN\n",
    "    df = pd.read_csv(data_path, header=0, index_col=0, na_values='NR', \n",
    "                 encoding='gbk')\n",
    "    \n",
    "    # 将NaN替换为0\n",
    "    df = df.fillna(0)\n",
    "    y = df.loc['PM2.5'].values\n",
    "    y = y.reshape(1,-1)\n",
    "    \n",
    "    df = df.drop(index='PM2.5')\n",
    "    \n",
    "    # 计算一个有多少天的数据\n",
    "    days = df.shape[0] // 17\n",
    "    \n",
    "    x = df.values\n",
    "    x = np.concatenate(np.vsplit(x, days), axis=1)\n",
    "    \n",
    "    return (x,y)\n",
    "\n",
    "# data_path = 'data/train.csv'"
   ]
  },
  {
   "cell_type": "code",
   "execution_count": 232,
   "metadata": {},
   "outputs": [
    {
     "name": "stdout",
     "output_type": "stream",
     "text": [
      "the shape of x: (17, 5760)\n",
      "the shape of y: (1, 5760)\n"
     ]
    }
   ],
   "source": [
    "# 测试数据加载函数\n",
    "data_path = 'data/train.csv'\n",
    "x,y = load_from_csv(data_path)\n",
    "print('the shape of x:',x.shape)\n",
    "print('the shape of y:',y.shape)"
   ]
  },
  {
   "cell_type": "code",
   "execution_count": 233,
   "metadata": {},
   "outputs": [],
   "source": [
    "def normalization(data):\n",
    "    '''\n",
    "        采用z-score标准化数据\n",
    "        @param:\n",
    "            需要标准化的数据，numpy.ndarray类型\n",
    "        @return:\n",
    "            归一化后的数据和均值、标准差\n",
    "    '''\n",
    "    mu = np.mean(data, axis=1, keepdims=True)\n",
    "    std = np.std(data, axis=1 ,keepdims=True)\n",
    "    data = (data - mu) / std\n",
    "    return data, mu, std"
   ]
  },
  {
   "cell_type": "code",
   "execution_count": 234,
   "metadata": {},
   "outputs": [],
   "source": [
    "# 测试normalization函数\n",
    "x = normalization(x)\n",
    "y = normalization(y)\n"
   ]
  },
  {
   "cell_type": "code",
   "execution_count": 235,
   "metadata": {},
   "outputs": [],
   "source": [
    "def initialize_parameter(dim):\n",
    "    '''\n",
    "    初始化参数\n",
    "        @param:\n",
    "            参数的维度信息\n",
    "        @return:\n",
    "            随机初始化后的参数\n",
    "    '''\n",
    "    w = np.random.randn(1,dim)\n",
    "    b = np.zeros((1,1))\n",
    "    return w,b"
   ]
  },
  {
   "cell_type": "code",
   "execution_count": 236,
   "metadata": {},
   "outputs": [],
   "source": [
    "# 测试参数初始化函数\n",
    "w,b = initialize_parameter(17)"
   ]
  },
  {
   "cell_type": "markdown",
   "metadata": {},
   "source": [
    "### 三、训练模型\n",
    "\n",
    "线性模型的为\n",
    "$$\\hat{y} = \\sum_i w_i \\cdot x_i + b$$\n",
    "\n",
    "衡量模型优劣的代价函数（Loss Function）为 Mean Square Error\n",
    "$$L(y, \\hat{y}) = \\frac{1}{2} \\sum_k (\\hat{y}_k - y_k)^2$$\n",
    "\n",
    "采用梯度下降法（Gradient Descent）求解\n",
    "$$\\frac{\\partial L}{\\partial w_i } = (\\hat{y}_k - y_k) x_i$$"
   ]
  },
  {
   "cell_type": "code",
   "execution_count": 237,
   "metadata": {},
   "outputs": [],
   "source": [
    "def get_batch(index, batch_size, X, Y):\n",
    "    x = None\n",
    "    y = None\n",
    "    j = index + batch_size\n",
    "    if j <= X.shape[1]:\n",
    "        pass\n",
    "    elif index < X.shape[1]:\n",
    "        j = X.shape[1]\n",
    "    else:\n",
    "        return None, None, None\n",
    "    \n",
    "    x = X[:, index : j]\n",
    "    y = Y[:, index : j]\n",
    "    index = j\n",
    "    return x, y, index\n",
    "        "
   ]
  },
  {
   "cell_type": "code",
   "execution_count": 238,
   "metadata": {
    "collapsed": true
   },
   "outputs": [
    {
     "ename": "AttributeError",
     "evalue": "'tuple' object has no attribute 'shape'",
     "output_type": "error",
     "traceback": [
      "\u001b[1;31m---------------------------------------------------------------------------\u001b[0m",
      "\u001b[1;31mAttributeError\u001b[0m                            Traceback (most recent call last)",
      "\u001b[1;32m<ipython-input-238-ee936e35b881>\u001b[0m in \u001b[0;36m<module>\u001b[1;34m\u001b[0m\n\u001b[1;32m----> 1\u001b[1;33m \u001b[0ma\u001b[0m\u001b[1;33m,\u001b[0m\u001b[0mb\u001b[0m\u001b[1;33m,\u001b[0m\u001b[0mc\u001b[0m \u001b[1;33m=\u001b[0m \u001b[0mget_batch\u001b[0m\u001b[1;33m(\u001b[0m\u001b[1;36m0\u001b[0m\u001b[1;33m,\u001b[0m \u001b[1;36m30000\u001b[0m\u001b[1;33m,\u001b[0m\u001b[0mx\u001b[0m\u001b[1;33m,\u001b[0m\u001b[0my\u001b[0m\u001b[1;33m)\u001b[0m\u001b[1;33m\u001b[0m\u001b[1;33m\u001b[0m\u001b[0m\n\u001b[0m\u001b[0;32m      2\u001b[0m \u001b[0mprint\u001b[0m\u001b[1;33m(\u001b[0m\u001b[0ma\u001b[0m\u001b[1;33m.\u001b[0m\u001b[0mshape\u001b[0m\u001b[1;33m,\u001b[0m\u001b[0mb\u001b[0m\u001b[1;33m.\u001b[0m\u001b[0mshape\u001b[0m\u001b[1;33m,\u001b[0m\u001b[0mc\u001b[0m\u001b[1;33m)\u001b[0m\u001b[1;33m\u001b[0m\u001b[1;33m\u001b[0m\u001b[0m\n",
      "\u001b[1;32m<ipython-input-237-29087fa2614b>\u001b[0m in \u001b[0;36mget_batch\u001b[1;34m(index, batch_size, X, Y)\u001b[0m\n\u001b[0;32m      3\u001b[0m     \u001b[0my\u001b[0m \u001b[1;33m=\u001b[0m \u001b[1;32mNone\u001b[0m\u001b[1;33m\u001b[0m\u001b[1;33m\u001b[0m\u001b[0m\n\u001b[0;32m      4\u001b[0m     \u001b[0mj\u001b[0m \u001b[1;33m=\u001b[0m \u001b[0mindex\u001b[0m \u001b[1;33m+\u001b[0m \u001b[0mbatch_size\u001b[0m\u001b[1;33m\u001b[0m\u001b[1;33m\u001b[0m\u001b[0m\n\u001b[1;32m----> 5\u001b[1;33m     \u001b[1;32mif\u001b[0m \u001b[0mj\u001b[0m \u001b[1;33m<=\u001b[0m \u001b[0mX\u001b[0m\u001b[1;33m.\u001b[0m\u001b[0mshape\u001b[0m\u001b[1;33m[\u001b[0m\u001b[1;36m1\u001b[0m\u001b[1;33m]\u001b[0m\u001b[1;33m:\u001b[0m\u001b[1;33m\u001b[0m\u001b[1;33m\u001b[0m\u001b[0m\n\u001b[0m\u001b[0;32m      6\u001b[0m         \u001b[1;32mpass\u001b[0m\u001b[1;33m\u001b[0m\u001b[1;33m\u001b[0m\u001b[0m\n\u001b[0;32m      7\u001b[0m     \u001b[1;32melif\u001b[0m \u001b[0mindex\u001b[0m \u001b[1;33m<\u001b[0m \u001b[0mX\u001b[0m\u001b[1;33m.\u001b[0m\u001b[0mshape\u001b[0m\u001b[1;33m[\u001b[0m\u001b[1;36m1\u001b[0m\u001b[1;33m]\u001b[0m\u001b[1;33m:\u001b[0m\u001b[1;33m\u001b[0m\u001b[1;33m\u001b[0m\u001b[0m\n",
      "\u001b[1;31mAttributeError\u001b[0m: 'tuple' object has no attribute 'shape'"
     ]
    }
   ],
   "source": [
    "a,b,c = get_batch(0, 30000,x,y)\n",
    "print(a.shape,b.shape,c)"
   ]
  },
  {
   "cell_type": "code",
   "execution_count": 261,
   "metadata": {},
   "outputs": [],
   "source": [
    "def train(w, b, X, Y, alpha=0.005, iteration=100, batch_size=252):\n",
    "    '''\n",
    "    训练模型\n",
    "        @param:\n",
    "            模型参数w、b，训练数据X，Y。学习速率alpha，迭代次数iteration，batch size\n",
    "        @return:\n",
    "            返回训练好的参数w、b\n",
    "    \n",
    "    '''\n",
    "    losses = []\n",
    "    \n",
    "    for _ in range(iteration):\n",
    "        cur_index = 0\n",
    "        while True:\n",
    "            x, y, cur_index = get_batch(cur_index, batch_size, X, Y)\n",
    "            if x is None:\n",
    "                break\n",
    "            \n",
    "            y_ = np.dot(w, x) + b\n",
    "            m = y_.shape[1]\n",
    "            \n",
    "            diff = y_ - y\n",
    "            loss = 0.5 * np.sum(diff**2)\n",
    "            losses.append(loss)\n",
    "            \n",
    "            dw = 1/m * np.dot(diff, x.T)\n",
    "            db = 1/m * np.sum(diff, keepdims=True)\n",
    "            \n",
    "            w = w - alpha * dw\n",
    "            b = b - alpha * db\n",
    "\n",
    "            \n",
    "#     plt.plot(losses)\n",
    "#     plt.xlabel('batch iteration times')\n",
    "#     plt.ylabel('loss')\n",
    "#     plt.show()\n",
    "    \n",
    "    print('after %d iterations with the batch size %d and learning rate %f,\\\n",
    "the final loss is %.2f'%(iteration, batch_size, alpha, losses[-1]))\n",
    "    return w,b"
   ]
  },
  {
   "cell_type": "code",
   "execution_count": null,
   "metadata": {},
   "outputs": [],
   "source": [
    "\n"
   ]
  },
  {
   "cell_type": "markdown",
   "metadata": {},
   "source": [
    "### 四、验证模型\n",
    "\n",
    "首先需要对test.csv进行预处理，删除第一列id列，同时在第一行新插入一行，并填入标号（用作数据的列索引）。\n"
   ]
  },
  {
   "cell_type": "code",
   "execution_count": 270,
   "metadata": {},
   "outputs": [],
   "source": [
    "def test_error(w,b,mu,std,test_path='data/test.csv'):\n",
    "    tx,ty = load_from_csv(test_path)\n",
    "    tx, _, _ = normalization(tx)\n",
    "#     mu = np.mean(ty, axis=1, keepdims=True)\n",
    "#     std = np.std(ty, axis=1 ,keepdims=True)\n",
    "    y_ = np.dot(w, tx) + b\n",
    "    y_ = (y_ + mu) * std\n",
    "    loss = 0.5 * np.sum((y_ - ty)**2)\n",
    "    result = np.concatenate([y_.T,ty.T], axis=1)\n",
    "    result = pd.DataFrame(result)\n",
    "    result.to_csv('data/result.csv')\n",
    "    print(loss)"
   ]
  },
  {
   "cell_type": "code",
   "execution_count": 272,
   "metadata": {},
   "outputs": [],
   "source": [
    "def main():\n",
    "    w, b = initialize_parameter(17)\n",
    "    data_path = 'data/train.csv'\n",
    "    x,y = load_from_csv(data_path)\n",
    "    x, _, _ = normalization(x)\n",
    "    y, mu, std = normalization(y)\n",
    "    alpha = 0.005\n",
    "    iteration = 1000\n",
    "    batch_size = 252\n",
    "    w,b = train(w, b, x, y,alpha,iteration,batch_size)\n",
    "    print('========================')\n",
    "    test_error(w,b,mu,std)"
   ]
  },
  {
   "cell_type": "code",
   "execution_count": 274,
   "metadata": {},
   "outputs": [
    {
     "data": {
      "image/png": "[encoded data removed]",
      "text/plain": [
       "<Figure size 432x288 with 1 Axes>"
      ]
     },
     "metadata": {
      "needs_background": "light"
     },
     "output_type": "display_data"
    },
    {
     "name": "stdout",
     "output_type": "stream",
     "text": [
      "after 1000 iterations with the batch size 252 and learning rate 0.005000,the final loss is 46.79\n",
      "========================\n",
      "117144177.8260352\n"
     ]
    }
   ],
   "source": [
    "main()"
   ]
  },
  {
   "cell_type": "code",
   "execution_count": null,
   "metadata": {},
   "outputs": [],
   "source": []
  }
 ],
 "metadata": {
  "kernelspec": {
   "display_name": "ml",
   "language": "python",
   "name": "ml"
  },
  "language_info": {
   "codemirror_mode": {
    "name": "ipython",
    "version": 3
   },
   "file_extension": ".py",
   "mimetype": "text/x-python",
   "name": "python",
   "nbconvert_exporter": "python",
   "pygments_lexer": "ipython3",
   "version": "3.6.8"
  }
 },
 "nbformat": 4,
 "nbformat_minor": 2
}
