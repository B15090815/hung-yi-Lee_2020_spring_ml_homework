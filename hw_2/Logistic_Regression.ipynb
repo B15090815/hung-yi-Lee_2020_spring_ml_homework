{
 "cells": [
  {
   "cell_type": "code",
   "execution_count": 41,
   "metadata": {},
   "outputs": [],
   "source": [
    "import pandas as pd\n",
    "import numpy as np\n",
    "import matplotlib.pyplot as plt\n",
    "from utils import sigmoid, normalization, get_batch"
   ]
  },
  {
   "cell_type": "code",
   "execution_count": 42,
   "metadata": {},
   "outputs": [],
   "source": [
    "def test(w, b, x, y):\n",
    "    y_ = np.dot(w,x) + b\n",
    "    a = sigmoid(y_)\n",
    "    predict = np.where(a < 0.5, 0, 1)\n",
    "    return 1 - np.mean(np.abs(predict - y), axis=1)\n",
    "    "
   ]
  },
  {
   "cell_type": "code",
   "execution_count": 9,
   "metadata": {},
   "outputs": [],
   "source": [
    "def generate_train_test(X, Y, path_to_save='data/'):\n",
    "    '''\n",
    "    根据原始数据集，按照0.9、0.1的比例划分为训练集和测试集。并将划分的数据保存到本地。\n",
    "    @param:\n",
    "        X:原始特征数据\n",
    "        Y:原始标记数据\n",
    "        path_to_save:数据保存路径\n",
    "    '''\n",
    "    train = [[],[]]\n",
    "    test = [[],[]]\n",
    "    \n",
    "    for i in range(Y.shape[1]): \n",
    "        seed = np.random.randint(0,100)\n",
    "        j = i + 1\n",
    "        if seed < 90:\n",
    "            train[0].append(X[:, i:j])\n",
    "            train[1].append(Y[:, i:j])\n",
    "        else:\n",
    "            test[0].append(X[:, i:j])\n",
    "            test[1].append(Y[:, i:j])\n",
    "    \n",
    "    train_x = np.hstack(train[0])\n",
    "    train_y = np.hstack(train[1])\n",
    "\n",
    "    test_x = np.hstack(test[0])\n",
    "    test_y = np.hstack(test[1])\n",
    "\n",
    "#     print(train_x.shape)\n",
    "    np.save(path_to_save + 'train_x', train_x)\n",
    "    np.save(path_to_save + 'train_y', train_y)\n",
    "    np.save(path_to_save + 'test_x', test_x)\n",
    "    np.save(path_to_save + 'test_y', test_y)\n",
    "    print('data has been generated and saved under the path:', path_to_save)"
   ]
  },
  {
   "cell_type": "code",
   "execution_count": 21,
   "metadata": {},
   "outputs": [],
   "source": [
    "def Z_Normalization(X):\n",
    "    mean = np.mean(X, axis=1, keepdims=True)\n",
    "    std = np.std(X, axis=1, keepdims=True)\n",
    "    X = (X - mean) / ( std + 1e-8)\n",
    "    return X"
   ]
  },
  {
   "cell_type": "code",
   "execution_count": 39,
   "metadata": {},
   "outputs": [
    {
     "name": "stdout",
     "output_type": "stream",
     "text": [
      "(1, 54256)\n"
     ]
    }
   ],
   "source": [
    "y_path = 'data/Y_train'\n",
    "dfy = pd.read_csv(y_path, dtype=np.float32)\n",
    "\n",
    "Y = dfy['label'].values\n",
    "Y = np.reshape(Y, (1, Y.shape[0]))\n",
    "dfy = None\n",
    "print(Y.shape)"
   ]
  },
  {
   "cell_type": "code",
   "execution_count": 40,
   "metadata": {},
   "outputs": [
    {
     "name": "stdout",
     "output_type": "stream",
     "text": [
      "(510, 54256)\n"
     ]
    }
   ],
   "source": [
    "x_path = 'data/X_train'\n",
    "dfx = pd.read_csv(x_path, dtype=np.float32)\n",
    "X = dfx.iloc[:, 1:].values\n",
    "X = X.T\n",
    "dfx = None\n",
    "X = Z_Normalization(X)\n",
    "print(X.shape)"
   ]
  },
  {
   "cell_type": "code",
   "execution_count": 16,
   "metadata": {},
   "outputs": [],
   "source": []
  },
  {
   "cell_type": "code",
   "execution_count": 20,
   "metadata": {},
   "outputs": [
    {
     "data": {
      "text/plain": [
       "8086.4956"
      ]
     },
     "execution_count": 20,
     "metadata": {},
     "output_type": "execute_result"
    }
   ],
   "source": []
  },
  {
   "cell_type": "code",
   "execution_count": 25,
   "metadata": {},
   "outputs": [
    {
     "name": "stdout",
     "output_type": "stream",
     "text": [
      "data has been generated and saved under the path: data/\n"
     ]
    }
   ],
   "source": [
    "# 切分监督数据为训练集和测试集，并保存到本地\n",
    "generate_train_test(X, Y)"
   ]
  },
  {
   "cell_type": "code",
   "execution_count": null,
   "metadata": {},
   "outputs": [],
   "source": []
  },
  {
   "cell_type": "code",
   "execution_count": 43,
   "metadata": {},
   "outputs": [
    {
     "name": "stdout",
     "output_type": "stream",
     "text": [
      "the shape of X is (510, 48890)\n",
      "the shape of Y is (1, 48890)\n"
     ]
    }
   ],
   "source": [
    "# 加载保存到本地的训练集和测试集数据\n",
    "\n",
    "X = np.load('data/train_x.npy')\n",
    "Y = np.load('data/train_y.npy')\n",
    "\n",
    "Xt = np.load('data/test_x.npy')\n",
    "Yt = np.load('data/test_y.npy')\n",
    "print('the shape of X is', X.shape)\n",
    "print('the shape of Y is', Y.shape)"
   ]
  },
  {
   "cell_type": "code",
   "execution_count": 44,
   "metadata": {},
   "outputs": [
    {
     "name": "stdout",
     "output_type": "stream",
     "text": [
      "Training on 100 batch,loss is 0.449. train accury 0.836. test accury is 0.834\n",
      "Training on 200 batch,loss is 0.293. train accury 0.875. test accury is 0.862\n",
      "Training on 300 batch,loss is 0.436. train accury 0.906. test accury is 0.871\n",
      "Training on 400 batch,loss is 0.258. train accury 0.883. test accury is 0.867\n",
      "Training on 500 batch,loss is 0.207. train accury 0.922. test accury is 0.873\n",
      "Training on 600 batch,loss is 0.294. train accury 0.898. test accury is 0.871\n",
      "Training on 700 batch,loss is 0.387. train accury 0.852. test accury is 0.872\n",
      "Training on 800 batch,loss is 0.242. train accury 0.914. test accury is 0.873\n",
      "Training on 900 batch,loss is 0.220. train accury 0.898. test accury is 0.877\n",
      "Training on 1000 batch,loss is 0.301. train accury 0.883. test accury is 0.876\n",
      "Training on 1100 batch,loss is 0.266. train accury 0.883. test accury is 0.879\n",
      "Training on 1200 batch,loss is 0.264. train accury 0.914. test accury is 0.879\n",
      "Training on 1300 batch,loss is 0.287. train accury 0.875. test accury is 0.882\n",
      "Training on 1400 batch,loss is 0.240. train accury 0.875. test accury is 0.881\n",
      "Training on 1500 batch,loss is 0.261. train accury 0.867. test accury is 0.879\n",
      "Training on 1600 batch,loss is 0.324. train accury 0.891. test accury is 0.881\n",
      "Training on 1700 batch,loss is 0.380. train accury 0.852. test accury is 0.881\n",
      "Training on 1800 batch,loss is 0.381. train accury 0.836. test accury is 0.880\n",
      "Training on 1900 batch,loss is 0.318. train accury 0.867. test accury is 0.880\n",
      "Training on 2000 batch,loss is 0.336. train accury 0.867. test accury is 0.881\n",
      "Training on 2100 batch,loss is 0.273. train accury 0.883. test accury is 0.880\n",
      "Training on 2200 batch,loss is 0.295. train accury 0.859. test accury is 0.881\n",
      "Training on 2300 batch,loss is 0.319. train accury 0.867. test accury is 0.881\n",
      "Training on 2400 batch,loss is 0.328. train accury 0.875. test accury is 0.882\n",
      "Training on 2500 batch,loss is 0.302. train accury 0.859. test accury is 0.881\n",
      "Training on 2600 batch,loss is 0.237. train accury 0.875. test accury is 0.884\n",
      "Training on 2700 batch,loss is 0.238. train accury 0.898. test accury is 0.882\n",
      "Training on 2800 batch,loss is 0.301. train accury 0.883. test accury is 0.882\n",
      "Training on 2900 batch,loss is 0.264. train accury 0.883. test accury is 0.881\n",
      "Training on 3000 batch,loss is 0.370. train accury 0.828. test accury is 0.881\n",
      "Training on 3100 batch,loss is 0.303. train accury 0.891. test accury is 0.882\n",
      "Training on 3200 batch,loss is 0.169. train accury 0.938. test accury is 0.880\n",
      "Training on 3300 batch,loss is 0.210. train accury 0.922. test accury is 0.881\n",
      "Training on 3400 batch,loss is 0.292. train accury 0.867. test accury is 0.882\n",
      "Training on 3500 batch,loss is 0.251. train accury 0.891. test accury is 0.881\n",
      "Training on 3600 batch,loss is 0.248. train accury 0.898. test accury is 0.883\n",
      "Training on 3700 batch,loss is 0.262. train accury 0.859. test accury is 0.881\n",
      "Training on 3800 batch,loss is 0.279. train accury 0.891. test accury is 0.882\n",
      "Training on 3900 batch,loss is 0.222. train accury 0.914. test accury is 0.883\n",
      "Training on 4000 batch,loss is 0.349. train accury 0.859. test accury is 0.880\n",
      "Training on 4100 batch,loss is 0.299. train accury 0.875. test accury is 0.882\n",
      "Training on 4200 batch,loss is 0.225. train accury 0.906. test accury is 0.882\n",
      "Training on 4300 batch,loss is 0.373. train accury 0.812. test accury is 0.883\n",
      "Training on 4400 batch,loss is 0.183. train accury 0.906. test accury is 0.882\n",
      "Training on 4500 batch,loss is 0.304. train accury 0.852. test accury is 0.882\n",
      "Training on 4600 batch,loss is 0.340. train accury 0.836. test accury is 0.881\n",
      "Training on 4700 batch,loss is 0.296. train accury 0.852. test accury is 0.882\n",
      "Training on 4800 batch,loss is 0.216. train accury 0.914. test accury is 0.881\n",
      "Training on 4900 batch,loss is 0.276. train accury 0.852. test accury is 0.881\n",
      "Training on 5000 batch,loss is 0.212. train accury 0.898. test accury is 0.882\n",
      "Training on 5100 batch,loss is 0.250. train accury 0.898. test accury is 0.883\n",
      "Training on 5200 batch,loss is 0.289. train accury 0.859. test accury is 0.881\n",
      "Training on 5300 batch,loss is 0.249. train accury 0.883. test accury is 0.881\n",
      "Training on 5400 batch,loss is 0.403. train accury 0.805. test accury is 0.883\n",
      "Training on 5500 batch,loss is 0.185. train accury 0.930. test accury is 0.882\n",
      "Training on 5600 batch,loss is 0.258. train accury 0.883. test accury is 0.882\n",
      "Training on 5700 batch,loss is 0.228. train accury 0.891. test accury is 0.881\n",
      "Training on 5800 batch,loss is 0.277. train accury 0.891. test accury is 0.883\n",
      "Training on 5900 batch,loss is 0.287. train accury 0.883. test accury is 0.882\n",
      "Training on 6000 batch,loss is 0.244. train accury 0.883. test accury is 0.881\n",
      "Training on 6100 batch,loss is 0.417. train accury 0.836. test accury is 0.881\n",
      "Training on 6200 batch,loss is 0.194. train accury 0.906. test accury is 0.882\n",
      "Training on 6300 batch,loss is 0.311. train accury 0.844. test accury is 0.881\n",
      "Training on 6400 batch,loss is 0.178. train accury 0.930. test accury is 0.883\n",
      "Training on 6500 batch,loss is 0.229. train accury 0.914. test accury is 0.882\n",
      "Training on 6600 batch,loss is 0.290. train accury 0.891. test accury is 0.882\n",
      "Training on 6700 batch,loss is 0.255. train accury 0.875. test accury is 0.881\n",
      "Training on 6800 batch,loss is 0.272. train accury 0.875. test accury is 0.882\n",
      "Training on 6900 batch,loss is 0.217. train accury 0.898. test accury is 0.882\n",
      "Training on 7000 batch,loss is 0.350. train accury 0.875. test accury is 0.883\n",
      "Training on 7100 batch,loss is 0.278. train accury 0.891. test accury is 0.881\n",
      "Training on 7200 batch,loss is 0.355. train accury 0.852. test accury is 0.881\n",
      "Training on 7300 batch,loss is 0.209. train accury 0.898. test accury is 0.882\n",
      "Training on 7400 batch,loss is 0.300. train accury 0.844. test accury is 0.882\n",
      "Training on 7500 batch,loss is 0.271. train accury 0.844. test accury is 0.882\n",
      "Training on 7600 batch,loss is 0.242. train accury 0.891. test accury is 0.881\n"
     ]
    },
    {
     "data": {
      "image/png": "[encoded data removed]",
      "text/plain": [
       "<Figure size 432x288 with 1 Axes>"
      ]
     },
     "metadata": {
      "needs_background": "light"
     },
     "output_type": "display_data"
    }
   ],
   "source": [
    "NODE = 1\n",
    "INPUT_NODE = 510\n",
    "# epsilon = 1e-9\n",
    "TRAIN_STEP = 20\n",
    "alpha = 0.25\n",
    "A0 = alpha\n",
    "BATCH_SIZE = 128\n",
    "LEARNING_RATE_DECAY = 1\n",
    "BETA = 0.9\n",
    "\n",
    "# 初始化参数\n",
    "w = np.random.rand(NODE, INPUT_NODE)\n",
    "b = np.zeros((NODE,1))\n",
    "\n",
    "#初始化初始动量\n",
    "sdw = np.zeros((NODE,INPUT_NODE))\n",
    "sdb = np.zeros((NODE,1))\n",
    "\n",
    "losses = []\n",
    "\n",
    "k = 1\n",
    "for epoch in range(TRAIN_STEP):\n",
    "    index = 0\n",
    "    while True:\n",
    "        x, y, index = get_batch(index, BATCH_SIZE, X, Y)\n",
    "        if x is None:\n",
    "            break\n",
    "            \n",
    "        y_ = np.dot(w,x) + b\n",
    "        a = sigmoid(y_)\n",
    "        m = y.shape[1]\n",
    "        cross_entropy = (1 - y) * np.log(1 - a) + y * np.log(a)\n",
    "        loss = -1 / m * np.sum(cross_entropy)\n",
    "        \n",
    "        dz = a - y\n",
    "        dw = 1.0 / m * np.dot(dz, x.T)\n",
    "        db = 1.0 / m * np.sum(dz)\n",
    "        \n",
    "        # Momentum\n",
    "        sdw = BETA * sdw + (1-BETA) * dw\n",
    "        sdb = BETA * sdb + (1-BETA) * db\n",
    "        \n",
    "        w = w - alpha * sdw\n",
    "        b = b - alpha * db\n",
    "\n",
    "        if k % 100 == 0:\n",
    "            losses.append(loss)\n",
    "            accury = test(w,b,Xt,Yt)\n",
    "            train_accury = test(w, b, x, y)\n",
    "            print('Training on %d batch,loss is %.3f. train accury %.3f. test accury is %.3f'\\\n",
    "                  %(k, loss,train_accury, accury))\n",
    "        k += 1\n",
    "    alpha = A0 / (1 + LEARNING_RATE_DECAY * epoch) \n",
    "    \n",
    "plt.figure()\n",
    "plt.plot(losses)\n",
    "plt.title('batch loss')\n",
    "plt.xlabel('batch')\n",
    "plt.ylabel('loss')\n",
    "plt.show()"
   ]
  },
  {
   "cell_type": "code",
   "execution_count": 34,
   "metadata": {},
   "outputs": [],
   "source": [
    "# 加载最终预测集数据\n",
    "path_test ='data/X_test'\n",
    "dft = pd.read_csv(path_test, dtype=np.float32)\n",
    "Xt = dft.iloc[:, 1:].values\n",
    "Xt = Xt.T\n",
    "dft = None\n",
    "Xt = Z_Normalization(Xt)"
   ]
  },
  {
   "cell_type": "code",
   "execution_count": 35,
   "metadata": {},
   "outputs": [
    {
     "name": "stdout",
     "output_type": "stream",
     "text": [
      "prediction shape is  (1, 27622)\n"
     ]
    }
   ],
   "source": [
    "# 使用训练模型预测数据\n",
    "y_ = np.dot(w, Xt) + b\n",
    "a = sigmoid(y_)\n",
    "predict = np.where(a < 0.5, 0, 1)\n",
    "print('prediction shape is ', predict.shape)"
   ]
  },
  {
   "cell_type": "code",
   "execution_count": 36,
   "metadata": {},
   "outputs": [],
   "source": [
    "# 保存结果到本地\n",
    "index = [x for x in range(0, predict.shape[1])]\n",
    "result = pd.DataFrame(predict.T, index=index, columns=['label'])\n",
    "result.to_csv('data/result_z_score.csv')"
   ]
  },
  {
   "cell_type": "code",
   "execution_count": null,
   "metadata": {},
   "outputs": [],
   "source": []
  }
 ],
 "metadata": {
  "kernelspec": {
   "display_name": "ml",
   "language": "python",
   "name": "ml"
  },
  "language_info": {
   "codemirror_mode": {
    "name": "ipython",
    "version": 3
   },
   "file_extension": ".py",
   "mimetype": "text/x-python",
   "name": "python",
   "nbconvert_exporter": "python",
   "pygments_lexer": "ipython3",
   "version": "3.6.8"
  }
 },
 "nbformat": 4,
 "nbformat_minor": 2
}
