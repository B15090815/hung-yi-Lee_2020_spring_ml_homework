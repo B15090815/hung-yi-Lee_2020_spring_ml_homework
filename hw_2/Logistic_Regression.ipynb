{
 "cells": [
  {
   "cell_type": "code",
   "execution_count": 1,
   "metadata": {},
   "outputs": [],
   "source": [
    "import pandas as pd\n",
    "import numpy as np\n",
    "import matplotlib.pyplot as plt\n",
    "from utils import sigmoid, normalization, get_batch"
   ]
  },
  {
   "cell_type": "code",
   "execution_count": 4,
   "metadata": {},
   "outputs": [],
   "source": [
    "def test(w, b, x, y):\n",
    "    y_ = np.dot(w,x) + b\n",
    "    a = sigmoid(y_)\n",
    "    predict = np.where(a < 0.5, 0, 1)\n",
    "    return 1 - np.mean(np.abs(predict - y), axis=1)\n",
    "    "
   ]
  },
  {
   "cell_type": "code",
   "execution_count": 6,
   "metadata": {},
   "outputs": [],
   "source": [
    "def generate_train_test(X, Y, path_to_save='data/'):\n",
    "    '''\n",
    "    根据原始数据集，按照0.9、0.1的比例划分为训练集和测试集。并将划分的数据保存到本地。\n",
    "    @param:\n",
    "        X:原始特征数据\n",
    "        Y:原始标记数据\n",
    "        path_to_save:数据保存路径\n",
    "    '''\n",
    "    train = [[],[]]\n",
    "    test = [[],[]]\n",
    "    \n",
    "    for i in range(Y.shape[1]): \n",
    "        seed = np.random.randint(0,100)\n",
    "        j = i + 1\n",
    "        if seed < 90:\n",
    "            train[0].append(X[:, i:j])\n",
    "            train[1].append(Y[:, i:j])\n",
    "        else:\n",
    "            test[0].append(X[:, i:j])\n",
    "            test[1].append(Y[:, i:j])\n",
    "    \n",
    "    train_x = np.hstack(train[0])\n",
    "    train_y = np.hstack(train[1])\n",
    "\n",
    "    test_x = np.hstack(test[0])\n",
    "    test_y = np.hstack(test[1])\n",
    "\n",
    "#     print(train_x.shape)\n",
    "    np.save(path_to_save + 'train_x', train_x)\n",
    "    np.save(path_to_save + 'train_y', train_y)\n",
    "    np.save(path_to_save + 'test_x', test_x)\n",
    "    np.save(path_to_save + 'test_y', test_y)\n",
    "    print('data has been generated and saved under the path:', path_to_save)"
   ]
  },
  {
   "cell_type": "code",
   "execution_count": 93,
   "metadata": {},
   "outputs": [
    {
     "name": "stdout",
     "output_type": "stream",
     "text": [
      "(1, 54256)\n"
     ]
    }
   ],
   "source": [
    "y_path = 'data/Y_train'\n",
    "dfy = pd.read_csv(y_path, dtype=np.float32)\n",
    "\n",
    "Y = dfy['label'].values\n",
    "Y = np.reshape(Y, (1, Y.shape[0]))\n",
    "dfy = None\n",
    "print(Y.shape)"
   ]
  },
  {
   "cell_type": "code",
   "execution_count": 94,
   "metadata": {},
   "outputs": [
    {
     "name": "stdout",
     "output_type": "stream",
     "text": [
      "(510, 54256)\n"
     ]
    }
   ],
   "source": [
    "x_path = 'data/X_train'\n",
    "dfx = pd.read_csv(x_path, dtype=np.float32)\n",
    "X = dfx.iloc[:, 1:].values\n",
    "X = X.T\n",
    "dfx = None\n",
    "X = normalization(X)\n",
    "print(X.shape)"
   ]
  },
  {
   "cell_type": "code",
   "execution_count": null,
   "metadata": {},
   "outputs": [],
   "source": [
    "# 切分监督数据为训练集和测试集，并保存到本地\n",
    "generate_train_test(X, Y)"
   ]
  },
  {
   "cell_type": "code",
   "execution_count": null,
   "metadata": {},
   "outputs": [],
   "source": []
  },
  {
   "cell_type": "code",
   "execution_count": 6,
   "metadata": {},
   "outputs": [
    {
     "name": "stdout",
     "output_type": "stream",
     "text": [
      "the shape of X is (510, 48896)\n",
      "the shape of Y is (1, 48896)\n"
     ]
    }
   ],
   "source": [
    "# 加载保存到本地的训练集和测试集数据\n",
    "\n",
    "X = np.load('data/train_x.npy')\n",
    "Y = np.load('data/train_y.npy')\n",
    "\n",
    "Xt = np.load('data/test_x.npy')\n",
    "Yt = np.load('data/test_y.npy')\n",
    "print('the shape of X is', X.shape)\n",
    "print('the shape of Y is', Y.shape)"
   ]
  },
  {
   "cell_type": "code",
   "execution_count": 7,
   "metadata": {},
   "outputs": [
    {
     "name": "stdout",
     "output_type": "stream",
     "text": [
      "Training on 1000 batch,learning rate is 0.125, loss is 0.4404. Accury is 0.809701\n",
      "Training on 2000 batch,learning rate is 0.0625, loss is 0.387289. Accury is 0.809701\n",
      "Training on 3000 batch,learning rate is 0.0416667, loss is 0.455828. Accury is 0.810075\n",
      "Training on 4000 batch,learning rate is 0.03125, loss is 0.391744. Accury is 0.810448\n",
      "Training on 5000 batch,learning rate is 0.025, loss is 0.387394. Accury is 0.810634\n",
      "Training on 6000 batch,learning rate is 0.0208333, loss is 0.392077. Accury is 0.809888\n",
      "Training on 7000 batch,learning rate is 0.0178571, loss is 0.453562. Accury is 0.809888\n",
      "Training on 8000 batch,learning rate is 0.015625, loss is 0.409053. Accury is 0.810075\n",
      "Training on 9000 batch,learning rate is 0.0138889, loss is 0.437495. Accury is 0.809888\n",
      "Training on 10000 batch,learning rate is 0.0125, loss is 0.474122. Accury is 0.809888\n",
      "Training on 11000 batch,learning rate is 0.0113636, loss is 0.423464. Accury is 0.810075\n",
      "Training on 12000 batch,learning rate is 0.0104167, loss is 0.434883. Accury is 0.810075\n",
      "Training on 13000 batch,learning rate is 0.00961538, loss is 0.419048. Accury is 0.810075\n",
      "Training on 14000 batch,learning rate is 0.00892857, loss is 0.329987. Accury is 0.810075\n",
      "Training on 15000 batch,learning rate is 0.00833333, loss is 0.444806. Accury is 0.810075\n",
      "Training on 16000 batch,learning rate is 0.0078125, loss is 0.442901. Accury is 0.809888\n",
      "Training on 17000 batch,learning rate is 0.00735294, loss is 0.395432. Accury is 0.809888\n",
      "Training on 18000 batch,learning rate is 0.00694444, loss is 0.434592. Accury is 0.810075\n",
      "Training on 19000 batch,learning rate is 0.00657895, loss is 0.423696. Accury is 0.810261\n",
      "Training on 20000 batch,learning rate is 0.00625, loss is 0.457152. Accury is 0.810261\n",
      "Training on 21000 batch,learning rate is 0.00595238, loss is 0.429338. Accury is 0.810261\n",
      "Training on 22000 batch,learning rate is 0.00568182, loss is 0.459103. Accury is 0.810261\n",
      "Training on 23000 batch,learning rate is 0.00531915, loss is 0.364969. Accury is 0.810448\n",
      "Training on 24000 batch,learning rate is 0.00510204, loss is 0.342956. Accury is 0.810448\n",
      "Training on 25000 batch,learning rate is 0.00490196, loss is 0.392639. Accury is 0.810634\n",
      "Training on 26000 batch,learning rate is 0.00471698, loss is 0.439553. Accury is 0.810634\n",
      "Training on 27000 batch,learning rate is 0.00454545, loss is 0.417982. Accury is 0.810634\n",
      "Training on 28000 batch,learning rate is 0.00438596, loss is 0.407536. Accury is 0.810448\n",
      "Training on 29000 batch,learning rate is 0.00423729, loss is 0.3828. Accury is 0.810634\n",
      "Training on 30000 batch,learning rate is 0.00409836, loss is 0.426267. Accury is 0.810261\n",
      "Training on 31000 batch,learning rate is 0.00396825, loss is 0.440172. Accury is 0.810448\n",
      "Training on 32000 batch,learning rate is 0.00384615, loss is 0.333234. Accury is 0.810448\n",
      "Training on 33000 batch,learning rate is 0.00373134, loss is 0.396106. Accury is 0.810448\n",
      "Training on 34000 batch,learning rate is 0.00362319, loss is 0.383288. Accury is 0.810448\n",
      "Training on 35000 batch,learning rate is 0.00352113, loss is 0.433885. Accury is 0.810448\n",
      "Training on 36000 batch,learning rate is 0.00342466, loss is 0.449487. Accury is 0.810448\n",
      "Training on 37000 batch,learning rate is 0.00333333, loss is 0.373752. Accury is 0.810448\n",
      "Training on 38000 batch,learning rate is 0.00324675, loss is 0.422165. Accury is 0.810261\n",
      "Training on 39000 batch,learning rate is 0.00316456, loss is 0.432028. Accury is 0.810261\n",
      "Training on 40000 batch,learning rate is 0.00308642, loss is 0.405436. Accury is 0.810634\n",
      "Training on 41000 batch,learning rate is 0.00301205, loss is 0.371618. Accury is 0.810634\n",
      "Training on 42000 batch,learning rate is 0.00294118, loss is 0.388171. Accury is 0.810634\n",
      "Training on 43000 batch,learning rate is 0.00287356, loss is 0.374876. Accury is 0.810634\n",
      "Training on 44000 batch,learning rate is 0.00280899, loss is 0.387147. Accury is 0.810634\n",
      "Training on 45000 batch,learning rate is 0.00271739, loss is 0.374471. Accury is 0.810634\n",
      "Training on 46000 batch,learning rate is 0.00265957, loss is 0.324982. Accury is 0.810821\n",
      "Training on 47000 batch,learning rate is 0.00260417, loss is 0.418808. Accury is 0.810821\n",
      "Training on 48000 batch,learning rate is 0.00255102, loss is 0.340583. Accury is 0.811007\n"
     ]
    },
    {
     "data": {
      "image/png": "[encoded data removed]",
      "text/plain": [
       "<Figure size 432x288 with 1 Axes>"
      ]
     },
     "metadata": {
      "needs_background": "light"
     },
     "output_type": "display_data"
    }
   ],
   "source": [
    "NODE = 1\n",
    "INPUT_NODE = 510\n",
    "epsilon = 1e-9\n",
    "TRAIN_STEP = 100\n",
    "alpha = 0.25\n",
    "A0 = alpha\n",
    "BATCH_SIZE = 100\n",
    "LEARNING_RATE_DECAY = 1\n",
    "BETA = 0.9\n",
    "\n",
    "M = X.shape[1]\n",
    "\n",
    "# 初始化参数\n",
    "w = np.random.rand(NODE, INPUT_NODE)\n",
    "b = np.zeros((NODE,1))\n",
    "\n",
    "#初始化初始动量\n",
    "sdw = np.zeros((NODE,INPUT_NODE))\n",
    "sdb = np.zeros((NODE,1))\n",
    "\n",
    "losses = []\n",
    "\n",
    "k = 1\n",
    "for epoch in range(TRAIN_STEP):\n",
    "    index = 0\n",
    "    while True:\n",
    "        x, y, index = get_batch(index, BATCH_SIZE, X, Y)\n",
    "        if x is None:\n",
    "            break\n",
    "            \n",
    "        y_ = np.dot(w,x) + b\n",
    "        a = sigmoid(y_)\n",
    "        m = y.shape[1]\n",
    "        cross_entropy = (1 - y) * np.log(1 - a + epsilon) + y * np.log(a + epsilon)\n",
    "        loss = -1 / m * np.sum(cross_entropy)\n",
    "        \n",
    "        dz = a - y\n",
    "        dw = 1.0 / m * np.dot(dz, x.T)\n",
    "        db = 1.0 / m * np.sum(dz)\n",
    "        \n",
    "        # Momentum\n",
    "        sdw = BETA * sdw + (1-BETA) * dw\n",
    "        sdb = BETA * sdb + (1-BETA) * db\n",
    "        \n",
    "        w = w - alpha * sdw\n",
    "        b = b - alpha * db\n",
    "         \n",
    "        if k % 1000 == 0:\n",
    "            losses.append(loss)\n",
    "            accury = test(w,b,Xt,Yt)\n",
    "            print('Training on %d batch,learning rate is %g, loss is %g. Accury is %g'\\\n",
    "                  %(k, alpha, loss, accury))\n",
    "        k += 1\n",
    "    alpha = A0 / (1 + LEARNING_RATE_DECAY * epoch) \n",
    "    \n",
    "plt.figure()\n",
    "plt.plot(losses)\n",
    "plt.title('batch loss')\n",
    "plt.xlabel('batch')\n",
    "plt.ylabel('loss')\n",
    "plt.show()"
   ]
  },
  {
   "cell_type": "code",
   "execution_count": 45,
   "metadata": {},
   "outputs": [],
   "source": [
    "# 加载最终预测集数据\n",
    "path_test ='data/X_test'\n",
    "dft = pd.read_csv(path_test, dtype=np.float32)\n",
    "Xt = dft.iloc[:, 1:].values\n",
    "Xt = Xt.T\n",
    "dft = None\n",
    "Xt = normalization(Xt)"
   ]
  },
  {
   "cell_type": "code",
   "execution_count": 55,
   "metadata": {},
   "outputs": [
    {
     "data": {
      "text/plain": [
       "(1, 27622)"
      ]
     },
     "execution_count": 55,
     "metadata": {},
     "output_type": "execute_result"
    }
   ],
   "source": [
    "# 使用训练模型预测数据\n",
    "y_ = np.dot(w, Xt) + b\n",
    "a = sigmoid(y_)\n",
    "predict = np.where(a < 0.5, 0, 1)\n",
    "print('prediction shape is ', predict.shape)"
   ]
  },
  {
   "cell_type": "code",
   "execution_count": 56,
   "metadata": {},
   "outputs": [],
   "source": [
    "# 保存结果到本地\n",
    "index = [x for x in range(0, predict.shape[1])]\n",
    "result = pd.DataFrame(predict.T, index=index, columns=['label'])\n",
    "result.to_csv('data/result_lr.csv')"
   ]
  },
  {
   "cell_type": "code",
   "execution_count": null,
   "metadata": {},
   "outputs": [],
   "source": []
  }
 ],
 "metadata": {
  "kernelspec": {
   "display_name": "ml",
   "language": "python",
   "name": "ml"
  },
  "language_info": {
   "codemirror_mode": {
    "name": "ipython",
    "version": 3
   },
   "file_extension": ".py",
   "mimetype": "text/x-python",
   "name": "python",
   "nbconvert_exporter": "python",
   "pygments_lexer": "ipython3",
   "version": "3.6.8"
  }
 },
 "nbformat": 4,
 "nbformat_minor": 2
}
