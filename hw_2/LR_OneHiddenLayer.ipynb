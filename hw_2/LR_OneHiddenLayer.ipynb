{
 "cells": [
  {
   "cell_type": "markdown",
   "metadata": {},
   "source": [
    "### 在运行本文件前，需要先运行Logistics_Regression文件中产生训练集和测试集的函数 generate_train_test"
   ]
  },
  {
   "cell_type": "code",
   "execution_count": 8,
   "metadata": {},
   "outputs": [],
   "source": [
    "import numpy as np\n",
    "import pandas as pd\n",
    "import matplotlib.pyplot as plt \n",
    "from utils import sigmoid, get_batch, normalization"
   ]
  },
  {
   "cell_type": "code",
   "execution_count": 9,
   "metadata": {},
   "outputs": [],
   "source": [
    "# relu激活函数\n",
    "def relu(z):\n",
    "    a = np.maximum(0,z)\n",
    "    return a"
   ]
  },
  {
   "cell_type": "code",
   "execution_count": 10,
   "metadata": {},
   "outputs": [],
   "source": [
    "# 前向传播\n",
    "def propogate(w,b,x):\n",
    "    '''\n",
    "    只有一层隐藏层神经网络的前向传播\n",
    "    @param：\n",
    "        w:权值列表\n",
    "        b:偏置列表\n",
    "    @return:\n",
    "        返回最后的网络输出\n",
    "    '''\n",
    "    a = x\n",
    "    z = np.dot(w[0],a) + b[0]\n",
    "    a = relu(z)\n",
    "    z = np.dot(w[1],a) + b[1]\n",
    "    a = sigmoid(z) \n",
    "    return a"
   ]
  },
  {
   "cell_type": "code",
   "execution_count": 11,
   "metadata": {},
   "outputs": [],
   "source": [
    "# 计算正确率\n",
    "def test(w,b,x,y):\n",
    "    a = propogate(w,b,x)\n",
    "    predict = np.where(a > 0.5, 1., 0.)\n",
    "    accury = 1 - np.mean(np.abs(predict - y))\n",
    "    return accury"
   ]
  },
  {
   "cell_type": "code",
   "execution_count": 12,
   "metadata": {},
   "outputs": [
    {
     "name": "stdout",
     "output_type": "stream",
     "text": [
      "the shape of X is (510, 48890)\n",
      "the shape of Y is (1, 48890)\n"
     ]
    }
   ],
   "source": [
    "\n",
    "X = np.load('data/train_x.npy')\n",
    "Y = np.load('data/train_y.npy')\n",
    "\n",
    "Xt = np.load('data/test_x.npy')\n",
    "Yt = np.load('data/test_y.npy')\n",
    "print('the shape of X is', X.shape)\n",
    "print('the shape of Y is', Y.shape)"
   ]
  },
  {
   "cell_type": "code",
   "execution_count": 31,
   "metadata": {},
   "outputs": [
    {
     "name": "stdout",
     "output_type": "stream",
     "text": [
      "Training on 200 batch,train set accuty is 0.781, loss is 2.863. Test Accury is 0.798\n",
      "Training on 400 batch,train set accuty is 0.875, loss is 2.246. Test Accury is 0.852\n",
      "Training on 600 batch,train set accuty is 0.805, loss is 3.186. Test Accury is 0.752\n",
      "Training on 800 batch,train set accuty is 0.922, loss is 1.253. Test Accury is 0.857\n",
      "Training on 1000 batch,train set accuty is 0.898, loss is 1.589. Test Accury is 0.863\n",
      "Training on 1200 batch,train set accuty is 0.883, loss is 2.016. Test Accury is 0.845\n",
      "Training on 1400 batch,train set accuty is 0.914, loss is 2.432. Test Accury is 0.865\n",
      "Training on 1600 batch,train set accuty is 0.891, loss is 2.031. Test Accury is 0.861\n",
      "Training on 1800 batch,train set accuty is 0.820, loss is 3.527. Test Accury is 0.853\n",
      "Training on 2000 batch,train set accuty is 0.891, loss is 1.805. Test Accury is 0.859\n",
      "Training on 2200 batch,train set accuty is 0.891, loss is 1.771. Test Accury is 0.843\n",
      "Training on 2400 batch,train set accuty is 0.805, loss is 2.218. Test Accury is 0.753\n",
      "Training on 2600 batch,train set accuty is 0.914, loss is 2.560. Test Accury is 0.831\n",
      "Training on 2800 batch,train set accuty is 0.883, loss is 1.631. Test Accury is 0.857\n",
      "Training on 3000 batch,train set accuty is 0.883, loss is 2.137. Test Accury is 0.838\n",
      "Training on 3200 batch,train set accuty is 0.938, loss is 0.628. Test Accury is 0.840\n",
      "Training on 3400 batch,train set accuty is 0.852, loss is 2.678. Test Accury is 0.817\n",
      "Training on 3600 batch,train set accuty is 0.891, loss is 1.523. Test Accury is 0.840\n",
      "Training on 3800 batch,train set accuty is 0.891, loss is 1.793. Test Accury is 0.856\n",
      "Training on 4000 batch,train set accuty is 0.883, loss is 1.772. Test Accury is 0.860\n",
      "Training on 4200 batch,train set accuty is 0.930, loss is 0.515. Test Accury is 0.791\n",
      "Training on 4400 batch,train set accuty is 0.977, loss is 0.378. Test Accury is 0.856\n",
      "Training on 4600 batch,train set accuty is 0.875, loss is 1.337. Test Accury is 0.843\n",
      "Training on 4800 batch,train set accuty is 0.969, loss is 0.772. Test Accury is 0.847\n",
      "Training on 5000 batch,train set accuty is 0.938, loss is 0.689. Test Accury is 0.855\n",
      "Training on 5200 batch,train set accuty is 0.922, loss is 0.601. Test Accury is 0.855\n",
      "Training on 5400 batch,train set accuty is 0.906, loss is 0.981. Test Accury is 0.847\n",
      "Training on 5600 batch,train set accuty is 0.922, loss is 1.074. Test Accury is 0.844\n",
      "Training on 5800 batch,train set accuty is 0.922, loss is 0.922. Test Accury is 0.842\n",
      "Training on 6000 batch,train set accuty is 0.914, loss is 0.588. Test Accury is 0.836\n",
      "Training on 6200 batch,train set accuty is 0.938, loss is 0.502. Test Accury is 0.856\n",
      "Training on 6400 batch,train set accuty is 0.945, loss is 0.294. Test Accury is 0.855\n",
      "Training on 6600 batch,train set accuty is 0.938, loss is 0.364. Test Accury is 0.856\n",
      "Training on 6800 batch,train set accuty is 0.953, loss is 0.193. Test Accury is 0.852\n",
      "Training on 7000 batch,train set accuty is 0.930, loss is 0.647. Test Accury is 0.855\n",
      "Training on 7200 batch,train set accuty is 0.914, loss is 0.530. Test Accury is 0.843\n",
      "Training on 7400 batch,train set accuty is 0.914, loss is 0.443. Test Accury is 0.855\n",
      "Training on 7600 batch,train set accuty is 0.930, loss is 0.321. Test Accury is 0.856\n",
      "Training on 7800 batch,train set accuty is 0.969, loss is 0.177. Test Accury is 0.855\n",
      "Training on 8000 batch,train set accuty is 0.961, loss is 0.209. Test Accury is 0.852\n",
      "Training on 8200 batch,train set accuty is 0.922, loss is 0.731. Test Accury is 0.841\n",
      "Training on 8400 batch,train set accuty is 0.953, loss is 0.185. Test Accury is 0.852\n",
      "Training on 8600 batch,train set accuty is 0.844, loss is 0.548. Test Accury is 0.814\n",
      "Training on 8800 batch,train set accuty is 0.938, loss is 0.236. Test Accury is 0.849\n",
      "Training on 9000 batch,train set accuty is 0.961, loss is 0.143. Test Accury is 0.843\n",
      "Training on 9200 batch,train set accuty is 0.906, loss is 0.347. Test Accury is 0.832\n",
      "Training on 9400 batch,train set accuty is 0.953, loss is 0.160. Test Accury is 0.852\n",
      "Training on 9600 batch,train set accuty is 0.969, loss is 0.093. Test Accury is 0.843\n",
      "Training on 9800 batch,train set accuty is 0.961, loss is 0.215. Test Accury is 0.858\n",
      "Training on 10000 batch,train set accuty is 0.922, loss is 0.223. Test Accury is 0.848\n",
      "Training on 10200 batch,train set accuty is 0.969, loss is 0.076. Test Accury is 0.854\n",
      "Training on 10400 batch,train set accuty is 0.961, loss is 0.096. Test Accury is 0.852\n",
      "Training on 10600 batch,train set accuty is 0.953, loss is 0.090. Test Accury is 0.829\n",
      "Training on 10800 batch,train set accuty is 0.930, loss is 0.352. Test Accury is 0.837\n",
      "Training on 11000 batch,train set accuty is 0.977, loss is 0.074. Test Accury is 0.852\n",
      "Training on 11200 batch,train set accuty is 0.961, loss is 0.110. Test Accury is 0.850\n",
      "Training on 11400 batch,train set accuty is 0.984, loss is 0.065. Test Accury is 0.854\n",
      "Training on 11600 batch,train set accuty is 0.969, loss is 0.089. Test Accury is 0.847\n",
      "Training on 11800 batch,train set accuty is 0.984, loss is 0.055. Test Accury is 0.847\n",
      "Training on 12000 batch,train set accuty is 0.961, loss is 0.081. Test Accury is 0.854\n",
      "Training on 12200 batch,train set accuty is 1.000, loss is 0.034. Test Accury is 0.854\n",
      "Training on 12400 batch,train set accuty is 0.930, loss is 0.137. Test Accury is 0.849\n",
      "Training on 12600 batch,train set accuty is 0.969, loss is 0.078. Test Accury is 0.854\n",
      "Training on 12800 batch,train set accuty is 0.984, loss is 0.080. Test Accury is 0.849\n",
      "Training on 13000 batch,train set accuty is 0.992, loss is 0.085. Test Accury is 0.847\n",
      "Training on 13200 batch,train set accuty is 0.977, loss is 0.108. Test Accury is 0.851\n",
      "Training on 13400 batch,train set accuty is 0.977, loss is 0.128. Test Accury is 0.856\n",
      "Training on 13600 batch,train set accuty is 0.984, loss is 0.071. Test Accury is 0.854\n",
      "Training on 13800 batch,train set accuty is 0.961, loss is 0.084. Test Accury is 0.853\n",
      "Training on 14000 batch,train set accuty is 0.953, loss is 0.110. Test Accury is 0.854\n",
      "Training on 14200 batch,train set accuty is 0.984, loss is 0.066. Test Accury is 0.855\n",
      "Training on 14400 batch,train set accuty is 0.938, loss is 0.122. Test Accury is 0.855\n",
      "Training on 14600 batch,train set accuty is 0.969, loss is 0.111. Test Accury is 0.847\n",
      "Training on 14800 batch,train set accuty is 0.961, loss is 0.115. Test Accury is 0.857\n",
      "Training on 15000 batch,train set accuty is 0.977, loss is 0.080. Test Accury is 0.858\n",
      "Training on 15200 batch,train set accuty is 0.953, loss is 0.101. Test Accury is 0.849\n",
      "Training on 15400 batch,train set accuty is 0.953, loss is 0.144. Test Accury is 0.850\n",
      "Training on 15600 batch,train set accuty is 0.961, loss is 0.106. Test Accury is 0.858\n",
      "Training on 15800 batch,train set accuty is 0.992, loss is 0.059. Test Accury is 0.861\n",
      "Training on 16000 batch,train set accuty is 0.969, loss is 0.112. Test Accury is 0.861\n",
      "Training on 16200 batch,train set accuty is 0.938, loss is 0.106. Test Accury is 0.863\n",
      "Training on 16400 batch,train set accuty is 0.977, loss is 0.107. Test Accury is 0.860\n",
      "Training on 16600 batch,train set accuty is 0.969, loss is 0.091. Test Accury is 0.857\n",
      "Training on 16800 batch,train set accuty is 0.961, loss is 0.125. Test Accury is 0.860\n",
      "Training on 17000 batch,train set accuty is 0.961, loss is 0.120. Test Accury is 0.857\n",
      "Training on 17200 batch,train set accuty is 0.961, loss is 0.110. Test Accury is 0.853\n",
      "Training on 17400 batch,train set accuty is 0.992, loss is 0.092. Test Accury is 0.857\n",
      "Training on 17600 batch,train set accuty is 0.977, loss is 0.085. Test Accury is 0.860\n",
      "Training on 17800 batch,train set accuty is 0.930, loss is 0.111. Test Accury is 0.862\n",
      "Training on 18000 batch,train set accuty is 0.938, loss is 0.157. Test Accury is 0.860\n",
      "Training on 18200 batch,train set accuty is 0.969, loss is 0.093. Test Accury is 0.863\n",
      "Training on 18400 batch,train set accuty is 0.953, loss is 0.112. Test Accury is 0.863\n",
      "Training on 18600 batch,train set accuty is 0.992, loss is 0.086. Test Accury is 0.861\n",
      "Training on 18800 batch,train set accuty is 0.961, loss is 0.097. Test Accury is 0.862\n",
      "Training on 19000 batch,train set accuty is 0.969, loss is 0.104. Test Accury is 0.864\n"
     ]
    },
    {
     "data": {
      "image/png": "[encoded data removed]",
      "text/plain": [
       "<Figure size 432x288 with 1 Axes>"
      ]
     },
     "metadata": {
      "needs_background": "light"
     },
     "output_type": "display_data"
    }
   ],
   "source": [
    "# 放置log下溢，所以加一个很小的量\n",
    "epsilon = 1e-9\n",
    "# 迭代次数\n",
    "TRAIN_STEP = 50\n",
    "# 学习速率 learning rate\n",
    "lr = 0.4\n",
    "alpha = lr\n",
    "# batch的大小\n",
    "BATCH_SIZE = 128\n",
    "# 学习速率衰减系数\n",
    "LEARNING_RATE_DECAY = 0.25\n",
    "# 指数加权系数\n",
    "BETA = 0.9\n",
    "theta = 1e-4\n",
    "# 输入结点个数\n",
    "INPUT_NODE = 510\n",
    "# 输出结点个数\n",
    "OUTPUT_NODE = 1\n",
    "# 隐藏层结点个数\n",
    "HIDDEN_LAYER = 1020\n",
    "\n",
    "\n",
    "w1 = np.random.randn(HIDDEN_LAYER, INPUT_NODE)\n",
    "b1 = np.zeros(shape=[HIDDEN_LAYER, 1])\n",
    "\n",
    "w2 = np.random.randn(OUTPUT_NODE, HIDDEN_LAYER)\n",
    "b2 = np.zeros(shape=[OUTPUT_NODE, 1])\n",
    "\n",
    "# Momentum优化法中的影子变量\n",
    "v_dw1 = np.zeros(shape=[HIDDEN_LAYER, INPUT_NODE])\n",
    "v_db1 = np.zeros(shape=[HIDDEN_LAYER, 1])\n",
    "v_dw2 = np.zeros(shape=[OUTPUT_NODE, HIDDEN_LAYER])\n",
    "v_db2 = np.zeros(shape=[OUTPUT_NODE, 1])\n",
    "\n",
    "\n",
    "losses = []\n",
    "k = 1\n",
    "for epoch in range(TRAIN_STEP):\n",
    "    # 每过一个世代学习速率衰减一次\n",
    "    lr = alpha / (1 + LEARNING_RATE_DECAY * epoch)\n",
    "    index = 0\n",
    "    while True:\n",
    "        x, y, index = get_batch(index, BATCH_SIZE, X, Y)\n",
    "        if x is None:\n",
    "            break\n",
    "        \n",
    "        m = y.shape[1]\n",
    "        \n",
    "        z1 = np.dot(w1, x) + b1\n",
    "        a1 = relu(z1)\n",
    "        \n",
    "        z2 = np.dot(w2, a1) + b2\n",
    "        a = sigmoid(z2)\n",
    "        \n",
    "        cross_entropy = (1 - y) * np.log(1 - a + epsilon) + y * np.log(a + epsilon)\n",
    "        loss = - np.mean(cross_entropy)\n",
    "        \n",
    "        # 反向传播\n",
    "        dz2 = a - y\n",
    "        dw2 = np.dot(dz2, a1.T) / m\n",
    "        db2 = np.mean(dz2, axis=1, keepdims=True)\n",
    "        \n",
    "        da1 = np.dot(w2.T, dz2)\n",
    "        dz1 = np.array(da1, copy=True)\n",
    "        dz1[z1 <= 0] = 0\n",
    "        dw1 = np.dot(dz1, x.T) / m\n",
    "        db1 = np.mean(dz1, axis=1, keepdims=True)\n",
    "        \n",
    "        v_dw1 = BETA * v_dw1 + (1 - BETA) * dw1\n",
    "        v_db1 = BETA * v_db1 + (1 - BETA) * db1\n",
    "        v_dw2 = BETA * v_dw2 + (1 - BETA) * dw2\n",
    "        v_db2 = BETA * v_db2 + (1 - BETA) * db2\n",
    "        \n",
    "        # 更新参数\n",
    "        w2 = (1-theta) * w2 - lr * v_dw2\n",
    "        b2 -= lr * v_db2\n",
    "        w1 = (1-theta) * w1 -  lr * v_dw1\n",
    "        b1 -= lr * v_db1\n",
    "        \n",
    "        # 每隔500个batch测试一次正确率\n",
    "        if k % 200 == 0:\n",
    "            losses.append(loss)\n",
    "            w = [w1,w2]\n",
    "            b = [b1,b2]\n",
    "            accury = test(w,b,Xt,Yt)\n",
    "            train_acc = test(w,b,x,y)\n",
    "            print('Training on %d batch,train set accuty is %.3f, loss is %.3f. Test Accury is %.3f' \n",
    "                  %(k,train_acc, loss, accury))\n",
    "        k += 1\n",
    "        \n",
    "    \n",
    "# 画出每500batch的损失（loss）值\n",
    "plt.figure()\n",
    "plt.plot(losses)\n",
    "plt.title('batch loss')\n",
    "plt.xlabel('batch')\n",
    "plt.ylabel('loss')\n",
    "plt.show()\n",
    "        \n",
    "\n"
   ]
  },
  {
   "cell_type": "code",
   "execution_count": 32,
   "metadata": {},
   "outputs": [],
   "source": [
    "def Z_Normalization(X):\n",
    "    mean = np.mean(X, axis=1, keepdims=True)\n",
    "    std = np.std(X, axis=1, keepdims=True)\n",
    "    X = (X - mean) / ( std + 1e-8)\n",
    "    return X"
   ]
  },
  {
   "cell_type": "code",
   "execution_count": 33,
   "metadata": {},
   "outputs": [],
   "source": [
    "# 加载测试集\n",
    "path_test ='data/X_test'\n",
    "dft = pd.read_csv(path_test, dtype=np.float32)\n",
    "Xtest = dft.iloc[:, 1:].values\n",
    "Xtest = Xtest.T\n",
    "dft = None\n",
    "Xtest = Z_Normalization(Xtest)"
   ]
  },
  {
   "cell_type": "code",
   "execution_count": 34,
   "metadata": {
    "scrolled": true
   },
   "outputs": [],
   "source": [
    "# 使用训练模型预测数据\n",
    "weight = [w1,w2]\n",
    "bias = [b1,b2]\n",
    "a = propogate(weight, bias, Xtest)\n",
    "predict = np.where(a < 0.5, 0, 1)\n",
    "# print('prediction shape is ', predict.shape)"
   ]
  },
  {
   "cell_type": "code",
   "execution_count": 35,
   "metadata": {},
   "outputs": [
    {
     "name": "stdout",
     "output_type": "stream",
     "text": [
      "learning rate is:0.0301887\n"
     ]
    }
   ],
   "source": [
    "result = pd.DataFrame(predict.T, columns=['label'])\n",
    "path_result = 'data/result_one_layer_{}_{}.csv'.format(HIDDEN_LAYER,lr)\n",
    "result.to_csv(path_result)\n",
    "print('learning rate is:%g' %lr)"
   ]
  },
  {
   "cell_type": "code",
   "execution_count": null,
   "metadata": {},
   "outputs": [],
   "source": []
  }
 ],
 "metadata": {
  "kernelspec": {
   "display_name": "ml",
   "language": "python",
   "name": "ml"
  },
  "language_info": {
   "codemirror_mode": {
    "name": "ipython",
    "version": 3
   },
   "file_extension": ".py",
   "mimetype": "text/x-python",
   "name": "python",
   "nbconvert_exporter": "python",
   "pygments_lexer": "ipython3",
   "version": "3.6.8"
  }
 },
 "nbformat": 4,
 "nbformat_minor": 2
}
