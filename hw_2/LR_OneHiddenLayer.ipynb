{
 "cells": [
  {
   "cell_type": "code",
   "execution_count": 1,
   "metadata": {},
   "outputs": [],
   "source": [
    "import numpy as np\n",
    "import pandas as pd\n",
    "import matplotlib.pyplot as plt \n",
    "from utils import sigmoid, get_batch, normalization"
   ]
  },
  {
   "cell_type": "code",
   "execution_count": 6,
   "metadata": {},
   "outputs": [],
   "source": [
    "def propogate(w, b, x):\n",
    "    cache = []\n",
    "    a = x\n",
    "    i = 0\n",
    "    while i < len(w) - 1:\n",
    "        z = np.dot(w[i], a) + b[i]\n",
    "        a = relu(z)\n",
    "        cache.append(a)\n",
    "        i += 1\n",
    "    z = np.dot(w[i], a) + b[i]\n",
    "    a = sigmoid(z)\n",
    "    cache.append(a)\n",
    "    return a, cache"
   ]
  },
  {
   "cell_type": "code",
   "execution_count": 7,
   "metadata": {},
   "outputs": [],
   "source": [
    "def relu(z):\n",
    "    a = np.maximum(0,z)\n",
    "    return a"
   ]
  },
  {
   "cell_type": "code",
   "execution_count": 15,
   "metadata": {},
   "outputs": [],
   "source": [
    "def initialize(layer):\n",
    "    W = []\n",
    "    B = []\n",
    "#     Vw = []\n",
    "#     Vb = []\n",
    "    \n",
    "    for i in range(1, len(layer)):\n",
    "        w = np.random.randn(layer[i], layer[i-1])\n",
    "        b = np.zeros((layer[i], 1))\n",
    "        W.append(w)\n",
    "        B.append(b)\n",
    "        \n",
    "#         vw = np.zeros((layer[i], layer[i-1]))\n",
    "#         vb = np.zeros((layer[i], 1))\n",
    "        \n",
    "#         Vw.append(vw)\n",
    "#         Vb.append(vb)\n",
    "        \n",
    "        \n",
    "    return W, B"
   ]
  },
  {
   "cell_type": "code",
   "execution_count": 18,
   "metadata": {
    "collapsed": true
   },
   "outputs": [
    {
     "name": "stdout",
     "output_type": "stream",
     "text": [
      "[[ 0.31368905 -1.47854282 -2.46118926 -1.47629384]\n",
      " [ 1.11789201 -0.99160646 -0.34822645  0.92348799]\n",
      " [-1.0732428   1.22446782  1.32373437 -0.0172361 ]]\n",
      "[[-0.37992031  0.90559442 -0.18309495]]\n"
     ]
    }
   ],
   "source": [
    "dim = [4,3,1]\n",
    "W,B = initialize(dim)\n",
    "for w in W:\n",
    "    print(w)"
   ]
  },
  {
   "cell_type": "code",
   "execution_count": 16,
   "metadata": {},
   "outputs": [],
   "source": [
    "def test(w,b,x,y):\n",
    "    a = x\n",
    "    for i in range(len(w)):\n",
    "        a = propogate(w[i], b[i], a)\n",
    "#     a1 = propogate(w1, b1, x)\n",
    "#     a2 = propogate(w2, b2, a1)\n",
    "    predict = np.where(a < 0.5, 0, 1)\n",
    "    return 1 - np.mean(np.abs(predict - y), axis=1)"
   ]
  },
  {
   "cell_type": "code",
   "execution_count": 8,
   "metadata": {},
   "outputs": [
    {
     "name": "stdout",
     "output_type": "stream",
     "text": [
      "the shape of X is (510, 48896)\n",
      "the shape of Y is (1, 48896)\n"
     ]
    }
   ],
   "source": [
    "\n",
    "X = np.load('data/train_x.npy')\n",
    "Y = np.load('data/train_y.npy')\n",
    "\n",
    "Xt = np.load('data/test_x.npy')\n",
    "Yt = np.load('data/test_y.npy')\n",
    "print('the shape of X is', X.shape)\n",
    "print('the shape of Y is', Y.shape)"
   ]
  },
  {
   "cell_type": "code",
   "execution_count": 19,
   "metadata": {},
   "outputs": [
    {
     "name": "stdout",
     "output_type": "stream",
     "text": [
      "Training on 1000 batch,train set accuty is 0.81, loss is 0.401347. Test Accury is 0.814179\n",
      "Training on 2000 batch,train set accuty is 0.83, loss is 0.363808. Test Accury is 0.819403\n",
      "Training on 3000 batch,train set accuty is 0.87, loss is 0.392688. Test Accury is 0.81847\n",
      "Training on 4000 batch,train set accuty is 0.87, loss is 0.323132. Test Accury is 0.833022\n",
      "Training on 5000 batch,train set accuty is 0.83, loss is 0.299649. Test Accury is 0.836567\n",
      "Training on 6000 batch,train set accuty is 0.87, loss is 0.300158. Test Accury is 0.835821\n",
      "Training on 7000 batch,train set accuty is 0.79, loss is 0.422344. Test Accury is 0.827239\n",
      "Training on 8000 batch,train set accuty is 0.82, loss is 0.359441. Test Accury is 0.842351\n",
      "Training on 9000 batch,train set accuty is 0.8, loss is 0.394121. Test Accury is 0.845336\n",
      "Training on 10000 batch,train set accuty is 0.78, loss is 0.47253. Test Accury is 0.843657\n",
      "Training on 11000 batch,train set accuty is 0.85, loss is 0.353438. Test Accury is 0.85056\n",
      "Training on 12000 batch,train set accuty is 0.83, loss is 0.342465. Test Accury is 0.849254\n",
      "Training on 13000 batch,train set accuty is 0.88, loss is 0.298447. Test Accury is 0.831716\n",
      "Training on 14000 batch,train set accuty is 0.84, loss is 0.281211. Test Accury is 0.83041\n",
      "Training on 15000 batch,train set accuty is 0.83, loss is 0.331504. Test Accury is 0.846455\n",
      "Training on 16000 batch,train set accuty is 0.87, loss is 0.384525. Test Accury is 0.85056\n",
      "Training on 17000 batch,train set accuty is 0.83, loss is 0.336321. Test Accury is 0.85597\n",
      "Training on 18000 batch,train set accuty is 0.83, loss is 0.283786. Test Accury is 0.854104\n",
      "Training on 19000 batch,train set accuty is 0.86, loss is 0.33814. Test Accury is 0.857463\n",
      "Training on 20000 batch,train set accuty is 0.85, loss is 0.42541. Test Accury is 0.849813\n",
      "Training on 21000 batch,train set accuty is 0.82, loss is 0.358518. Test Accury is 0.83041\n",
      "Training on 22000 batch,train set accuty is 0.88, loss is 0.286318. Test Accury is 0.808396\n",
      "Training on 23000 batch,train set accuty is 0.84, loss is 0.285165. Test Accury is 0.829291\n",
      "Training on 24000 batch,train set accuty is 0.86, loss is 0.25978. Test Accury is 0.840485\n"
     ]
    },
    {
     "data": {
      "image/png": "[encoded data removed]",
      "text/plain": [
       "<Figure size 432x288 with 1 Axes>"
      ]
     },
     "metadata": {
      "needs_background": "light"
     },
     "output_type": "display_data"
    }
   ],
   "source": [
    "# dim1 = 510\n",
    "# dim2 = 250\n",
    "# dim3 = 125\n",
    "# dim4 = 1\n",
    "\n",
    "epsilon = 1e-9\n",
    "TRAIN_STEP = 50\n",
    "alpha = 0.25\n",
    "A0 = alpha\n",
    "BATCH_SIZE = 100\n",
    "LEARNING_RATE_DECAY = 0.5\n",
    "BETA = 0.9\n",
    "\n",
    "w1 = np.random.randn(dim2, dim1)\n",
    "b1 = np.zeros((dim2, 1))\n",
    "\n",
    "w2 = np.random.randn(dim3, dim2)\n",
    "b2 = np.zeros((dim3, 1))\n",
    "\n",
    "\n",
    "w3 = np.random.randn(dim4, dim3)\n",
    "b3 = np.zeros((dim4, 1))\n",
    "\n",
    "vdw1 = np.zeros((dim2, dim1))\n",
    "vdb1 = np.zeros((dim2, 1))\n",
    "vdw2 = np.zeros((dim3, dim2))\n",
    "vdb2 = np.zeros((dim3, 1))\n",
    "vdw3 = np.zeros((dim4, dim3))\n",
    "vdb3 = np.zeros((dim4, 1))\n",
    "\n",
    "losses = []\n",
    "k = 1\n",
    "for epoch in range(TRAIN_STEP):\n",
    "    index = 0\n",
    "    while True:\n",
    "        x, y, index = get_batch(index, BATCH_SIZE, X, Y)\n",
    "        if x is None:\n",
    "            break\n",
    "            \n",
    "        a1 = propogate(w1, b1, x)\n",
    "        a2 = propogate(w2, b2, a1)\n",
    "        a3 = propogate(w3, b3, a2)\n",
    "\n",
    "        m = y.shape[1]\n",
    "        cross_entropy = (1 - y) * np.log(1 - a3 + epsilon) + y * np.log(a3 + epsilon)\n",
    "        loss = -1 / m * np.sum(cross_entropy)\n",
    "        \n",
    "        dz3 = a3 - y\n",
    "        dw3 = 1 / m * np.dot(dz3, a2.T)\n",
    "        db3 = 1 / m * np.sum(dz3, axis=1, keepdims=True)\n",
    "        \n",
    "        \n",
    "        da2 = np.dot(w3.T, dz3)\n",
    "        dz2 = da2 * a2 * (1-a2)\n",
    "        dw2 = 1 / m * np.dot(dz2, a1.T)\n",
    "        db2 = 1 / m * np.sum(dz2, axis=1, keepdims=True)\n",
    "        \n",
    "        da1 = np.dot(w2.T, dz2)\n",
    "        dz1 = da1 * a1 * (1 - a1)\n",
    "        dw1 = 1 / m * np.dot(dz1, x.T)\n",
    "        db1 = 1 / m * np.sum(dz1, axis=1, keepdims=True)\n",
    "        \n",
    "        vdw3 = BETA * vdw3 + (1-BETA) * dw3\n",
    "        vdb3 = BETA * vdb3 + (1-BETA) * db3\n",
    "        \n",
    "        vdw2 = BETA * vdw2 + (1-BETA) * dw2\n",
    "        vdb2 = BETA * vdb2 + (1-BETA) * db2\n",
    "        \n",
    "        vdw1 = BETA * vdw1 + (1-BETA) * dw1\n",
    "        vdb1 = BETA * vdb1 + (1-BETA) * db1\n",
    "        \n",
    "        w3 = w3 - alpha * vdw3\n",
    "        b3 = b3 - alpha * vdb3  \n",
    "        \n",
    "        w2 = w2 - alpha * vdw2\n",
    "        b2 = b2 - alpha * vdb2\n",
    "        \n",
    "        w1 = w1 - alpha * vdw1\n",
    "        b1 = b1 - alpha * vdb1\n",
    "        \n",
    "                 \n",
    "        if k % 1000 == 0:\n",
    "            losses.append(loss)\n",
    "            w = [w1,w2,w3]\n",
    "            b = [b1,b2,b3]\n",
    "            accury = test(w,b,Xt,Yt)\n",
    "            train_acc = test(w,b,x,y)\n",
    "            print('Training on %d batch,train set accuty is %g, loss is %g. Test Accury is %g'\\\n",
    "                  %(k,train_acc, loss, accury))\n",
    "        k += 1\n",
    "        \n",
    "#     alpha = A0 / (1 + LEARNING_RATE_DECAY * epoch) \n",
    "\n",
    "plt.figure()\n",
    "plt.plot(losses)\n",
    "plt.title('batch loss')\n",
    "plt.xlabel('batch')\n",
    "plt.ylabel('loss')\n",
    "plt.show()\n",
    "        \n",
    "\n"
   ]
  },
  {
   "cell_type": "code",
   "execution_count": 10,
   "metadata": {},
   "outputs": [],
   "source": [
    "path_test ='data/X_test'\n",
    "dft = pd.read_csv(path_test, dtype=np.float32)\n",
    "Xtest = dft.iloc[:, 1:].values\n",
    "Xtest = Xtest.T\n",
    "dft = None\n",
    "Xtest = normalization(Xtest)"
   ]
  },
  {
   "cell_type": "code",
   "execution_count": 11,
   "metadata": {},
   "outputs": [
    {
     "name": "stdout",
     "output_type": "stream",
     "text": [
      "prediction shape is  (1, 27622)\n"
     ]
    }
   ],
   "source": [
    "# 使用训练模型预测数据\n",
    "w = [w1,w2,w3]\n",
    "b = [b1,b2,b3]\n",
    "a = Xtest\n",
    "for i in range(len(w)):\n",
    "    a = propogate(w[i], b[i], a)\n",
    "\n",
    "predict = np.where(a < 0.5, 0, 1)\n",
    "print('prediction shape is ', predict.shape)"
   ]
  },
  {
   "cell_type": "code",
   "execution_count": 12,
   "metadata": {},
   "outputs": [],
   "source": [
    "result = pd.DataFrame(predict.T, columns=['label'])\n",
    "# num = 5\n",
    "path_result = 'data/result_{}_{}.csv'.format(dim2,alpha)\n",
    "result.to_csv(path_result)"
   ]
  },
  {
   "cell_type": "code",
   "execution_count": null,
   "metadata": {},
   "outputs": [],
   "source": []
  },
  {
   "cell_type": "code",
   "execution_count": null,
   "metadata": {},
   "outputs": [],
   "source": []
  }
 ],
 "metadata": {
  "kernelspec": {
   "display_name": "ml",
   "language": "python",
   "name": "ml"
  },
  "language_info": {
   "codemirror_mode": {
    "name": "ipython",
    "version": 3
   },
   "file_extension": ".py",
   "mimetype": "text/x-python",
   "name": "python",
   "nbconvert_exporter": "python",
   "pygments_lexer": "ipython3",
   "version": "3.6.8"
  }
 },
 "nbformat": 4,
 "nbformat_minor": 2
}
